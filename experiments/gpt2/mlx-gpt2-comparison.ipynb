{
 "cells": [
  {
   "cell_type": "code",
   "execution_count": 1,
   "metadata": {},
   "outputs": [],
   "source": [
    "import mlx.core as mx\n",
    "from mlx_lm.utils import load"
   ]
  },
  {
   "cell_type": "code",
   "execution_count": 2,
   "metadata": {},
   "outputs": [
    {
     "data": {
      "application/vnd.jupyter.widget-view+json": {
       "model_id": "948edd54ea89453c8755e15eb7fbff8b",
       "version_major": 2,
       "version_minor": 0
      },
      "text/plain": [
       "Fetching 14 files:   0%|          | 0/14 [00:00<?, ?it/s]"
      ]
     },
     "metadata": {},
     "output_type": "display_data"
    }
   ],
   "source": [
    "model, tokenizer = load(\"openai-community/gpt2\")"
   ]
  },
  {
   "cell_type": "code",
   "execution_count": 3,
   "metadata": {},
   "outputs": [
    {
     "data": {
      "text/plain": [
       "Model(\n",
       "  (model): GPT2Model(\n",
       "    (wte): Embedding(50257, 768)\n",
       "    (wpe): Embedding(1024, 768)\n",
       "    (h.0): TransformerBlock(\n",
       "      (attn): Attention(\n",
       "        (c_attn): Linear(input_dims=768, output_dims=2304, bias=True)\n",
       "        (c_proj): Linear(input_dims=768, output_dims=768, bias=True)\n",
       "      )\n",
       "      (mlp): MLP(\n",
       "        (c_fc): Linear(input_dims=768, output_dims=3072, bias=True)\n",
       "        (c_proj): Linear(input_dims=3072, output_dims=768, bias=True)\n",
       "      )\n",
       "      (ln_1): LayerNorm(768, eps=1e-05, affine=True)\n",
       "      (ln_2): LayerNorm(768, eps=1e-05, affine=True)\n",
       "    )\n",
       "    (h.1): TransformerBlock(\n",
       "      (attn): Attention(\n",
       "        (c_attn): Linear(input_dims=768, output_dims=2304, bias=True)\n",
       "        (c_proj): Linear(input_dims=768, output_dims=768, bias=True)\n",
       "      )\n",
       "      (mlp): MLP(\n",
       "        (c_fc): Linear(input_dims=768, output_dims=3072, bias=True)\n",
       "        (c_proj): Linear(input_dims=3072, output_dims=768, bias=True)\n",
       "      )\n",
       "      (ln_1): LayerNorm(768, eps=1e-05, affine=True)\n",
       "      (ln_2): LayerNorm(768, eps=1e-05, affine=True)\n",
       "    )\n",
       "    (h.2): TransformerBlock(\n",
       "      (attn): Attention(\n",
       "        (c_attn): Linear(input_dims=768, output_dims=2304, bias=True)\n",
       "        (c_proj): Linear(input_dims=768, output_dims=768, bias=True)\n",
       "      )\n",
       "      (mlp): MLP(\n",
       "        (c_fc): Linear(input_dims=768, output_dims=3072, bias=True)\n",
       "        (c_proj): Linear(input_dims=3072, output_dims=768, bias=True)\n",
       "      )\n",
       "      (ln_1): LayerNorm(768, eps=1e-05, affine=True)\n",
       "      (ln_2): LayerNorm(768, eps=1e-05, affine=True)\n",
       "    )\n",
       "    (h.3): TransformerBlock(\n",
       "      (attn): Attention(\n",
       "        (c_attn): Linear(input_dims=768, output_dims=2304, bias=True)\n",
       "        (c_proj): Linear(input_dims=768, output_dims=768, bias=True)\n",
       "      )\n",
       "      (mlp): MLP(\n",
       "        (c_fc): Linear(input_dims=768, output_dims=3072, bias=True)\n",
       "        (c_proj): Linear(input_dims=3072, output_dims=768, bias=True)\n",
       "      )\n",
       "      (ln_1): LayerNorm(768, eps=1e-05, affine=True)\n",
       "      (ln_2): LayerNorm(768, eps=1e-05, affine=True)\n",
       "    )\n",
       "    (h.4): TransformerBlock(\n",
       "      (attn): Attention(\n",
       "        (c_attn): Linear(input_dims=768, output_dims=2304, bias=True)\n",
       "        (c_proj): Linear(input_dims=768, output_dims=768, bias=True)\n",
       "      )\n",
       "      (mlp): MLP(\n",
       "        (c_fc): Linear(input_dims=768, output_dims=3072, bias=True)\n",
       "        (c_proj): Linear(input_dims=3072, output_dims=768, bias=True)\n",
       "      )\n",
       "      (ln_1): LayerNorm(768, eps=1e-05, affine=True)\n",
       "      (ln_2): LayerNorm(768, eps=1e-05, affine=True)\n",
       "    )\n",
       "    (h.5): TransformerBlock(\n",
       "      (attn): Attention(\n",
       "        (c_attn): Linear(input_dims=768, output_dims=2304, bias=True)\n",
       "        (c_proj): Linear(input_dims=768, output_dims=768, bias=True)\n",
       "      )\n",
       "      (mlp): MLP(\n",
       "        (c_fc): Linear(input_dims=768, output_dims=3072, bias=True)\n",
       "        (c_proj): Linear(input_dims=3072, output_dims=768, bias=True)\n",
       "      )\n",
       "      (ln_1): LayerNorm(768, eps=1e-05, affine=True)\n",
       "      (ln_2): LayerNorm(768, eps=1e-05, affine=True)\n",
       "    )\n",
       "    (h.6): TransformerBlock(\n",
       "      (attn): Attention(\n",
       "        (c_attn): Linear(input_dims=768, output_dims=2304, bias=True)\n",
       "        (c_proj): Linear(input_dims=768, output_dims=768, bias=True)\n",
       "      )\n",
       "      (mlp): MLP(\n",
       "        (c_fc): Linear(input_dims=768, output_dims=3072, bias=True)\n",
       "        (c_proj): Linear(input_dims=3072, output_dims=768, bias=True)\n",
       "      )\n",
       "      (ln_1): LayerNorm(768, eps=1e-05, affine=True)\n",
       "      (ln_2): LayerNorm(768, eps=1e-05, affine=True)\n",
       "    )\n",
       "    (h.7): TransformerBlock(\n",
       "      (attn): Attention(\n",
       "        (c_attn): Linear(input_dims=768, output_dims=2304, bias=True)\n",
       "        (c_proj): Linear(input_dims=768, output_dims=768, bias=True)\n",
       "      )\n",
       "      (mlp): MLP(\n",
       "        (c_fc): Linear(input_dims=768, output_dims=3072, bias=True)\n",
       "        (c_proj): Linear(input_dims=3072, output_dims=768, bias=True)\n",
       "      )\n",
       "      (ln_1): LayerNorm(768, eps=1e-05, affine=True)\n",
       "      (ln_2): LayerNorm(768, eps=1e-05, affine=True)\n",
       "    )\n",
       "    (h.8): TransformerBlock(\n",
       "      (attn): Attention(\n",
       "        (c_attn): Linear(input_dims=768, output_dims=2304, bias=True)\n",
       "        (c_proj): Linear(input_dims=768, output_dims=768, bias=True)\n",
       "      )\n",
       "      (mlp): MLP(\n",
       "        (c_fc): Linear(input_dims=768, output_dims=3072, bias=True)\n",
       "        (c_proj): Linear(input_dims=3072, output_dims=768, bias=True)\n",
       "      )\n",
       "      (ln_1): LayerNorm(768, eps=1e-05, affine=True)\n",
       "      (ln_2): LayerNorm(768, eps=1e-05, affine=True)\n",
       "    )\n",
       "    (h.9): TransformerBlock(\n",
       "      (attn): Attention(\n",
       "        (c_attn): Linear(input_dims=768, output_dims=2304, bias=True)\n",
       "        (c_proj): Linear(input_dims=768, output_dims=768, bias=True)\n",
       "      )\n",
       "      (mlp): MLP(\n",
       "        (c_fc): Linear(input_dims=768, output_dims=3072, bias=True)\n",
       "        (c_proj): Linear(input_dims=3072, output_dims=768, bias=True)\n",
       "      )\n",
       "      (ln_1): LayerNorm(768, eps=1e-05, affine=True)\n",
       "      (ln_2): LayerNorm(768, eps=1e-05, affine=True)\n",
       "    )\n",
       "    (h.10): TransformerBlock(\n",
       "      (attn): Attention(\n",
       "        (c_attn): Linear(input_dims=768, output_dims=2304, bias=True)\n",
       "        (c_proj): Linear(input_dims=768, output_dims=768, bias=True)\n",
       "      )\n",
       "      (mlp): MLP(\n",
       "        (c_fc): Linear(input_dims=768, output_dims=3072, bias=True)\n",
       "        (c_proj): Linear(input_dims=3072, output_dims=768, bias=True)\n",
       "      )\n",
       "      (ln_1): LayerNorm(768, eps=1e-05, affine=True)\n",
       "      (ln_2): LayerNorm(768, eps=1e-05, affine=True)\n",
       "    )\n",
       "    (h.11): TransformerBlock(\n",
       "      (attn): Attention(\n",
       "        (c_attn): Linear(input_dims=768, output_dims=2304, bias=True)\n",
       "        (c_proj): Linear(input_dims=768, output_dims=768, bias=True)\n",
       "      )\n",
       "      (mlp): MLP(\n",
       "        (c_fc): Linear(input_dims=768, output_dims=3072, bias=True)\n",
       "        (c_proj): Linear(input_dims=3072, output_dims=768, bias=True)\n",
       "      )\n",
       "      (ln_1): LayerNorm(768, eps=1e-05, affine=True)\n",
       "      (ln_2): LayerNorm(768, eps=1e-05, affine=True)\n",
       "    )\n",
       "    (ln_f): LayerNorm(768, eps=1e-05, affine=True)\n",
       "  )\n",
       ")"
      ]
     },
     "execution_count": 3,
     "metadata": {},
     "output_type": "execute_result"
    }
   ],
   "source": [
    "model.eval()"
   ]
  },
  {
   "cell_type": "code",
   "execution_count": 4,
   "metadata": {},
   "outputs": [
    {
     "name": "stdout",
     "output_type": "stream",
     "text": [
      "Input IDs: array([15496, 11, 616, 1438, 318], dtype=int32)\n",
      "Tokenized input: ['Hello', ',', ' my', ' name', ' is']\n"
     ]
    }
   ],
   "source": [
    "input_text = \"Hello, my name is\"\n",
    "input_ids = mx.array(tokenizer.encode(input_text))\n",
    "print(\"Input IDs:\", input_ids)\n",
    "print(\n",
    "    \"Tokenized input:\", [tokenizer.decode(input_id) for input_id in input_ids.tolist()]\n",
    ")"
   ]
  },
  {
   "cell_type": "code",
   "execution_count": 5,
   "metadata": {},
   "outputs": [
    {
     "data": {
      "text/plain": [
       "(1, 5)"
      ]
     },
     "execution_count": 5,
     "metadata": {},
     "output_type": "execute_result"
    }
   ],
   "source": [
    "input_ids = mx.expand_dims(input_ids, axis=0)  # [T] -> [B,T]\n",
    "input_ids.shape"
   ]
  },
  {
   "cell_type": "code",
   "execution_count": 6,
   "metadata": {},
   "outputs": [],
   "source": [
    "max_new_tokens = 20\n",
    "\n",
    "for _ in range(max_new_tokens):\n",
    "    # model expects [B,T]\n",
    "    outputs = model(input_ids)\n",
    "    next_token_logits = outputs[:, -1, :]\n",
    "    next_token_id = mx.argmax(\n",
    "        next_token_logits, axis=-1, keepdims=True\n",
    "    )  # use keepdims otherwise reduces to [T]\n",
    "    input_ids = mx.concatenate(\n",
    "        [input_ids, next_token_id], -1\n",
    "    )  # concat across [B,T] across [T]"
   ]
  },
  {
   "cell_type": "code",
   "execution_count": 7,
   "metadata": {},
   "outputs": [
    {
     "data": {
      "text/plain": [
       "\"Hello, my name is John. I'm a writer, and I'm a writer. I'm a writer. I'm\""
      ]
     },
     "execution_count": 7,
     "metadata": {},
     "output_type": "execute_result"
    }
   ],
   "source": [
    "tokenizer.decode(input_ids.squeeze(0).tolist())"
   ]
  }
 ],
 "metadata": {
  "kernelspec": {
   "display_name": "mlenv",
   "language": "python",
   "name": "python3"
  },
  "language_info": {
   "codemirror_mode": {
    "name": "ipython",
    "version": 3
   },
   "file_extension": ".py",
   "mimetype": "text/x-python",
   "name": "python",
   "nbconvert_exporter": "python",
   "pygments_lexer": "ipython3",
   "version": "3.11.11"
  }
 },
 "nbformat": 4,
 "nbformat_minor": 2
}
