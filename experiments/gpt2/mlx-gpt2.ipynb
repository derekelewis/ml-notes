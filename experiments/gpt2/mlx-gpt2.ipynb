{
 "cells": [
  {
   "cell_type": "code",
   "execution_count": 1,
   "id": "93b9e576-26ba-4942-857d-6f45cfebcf92",
   "metadata": {},
   "outputs": [],
   "source": [
    "import mlx.core as mx\n",
    "import mlx.nn as nn"
   ]
  },
  {
   "cell_type": "code",
   "execution_count": 2,
   "id": "fb46c703-486b-48b5-b083-23a5874a701f",
   "metadata": {},
   "outputs": [],
   "source": [
    "inputs = mx.array(\n",
    "  [[0.43, 0.15, 0.89], # Your     (x^1)\n",
    "   [0.55, 0.87, 0.66], # journey  (x^2)\n",
    "   [0.57, 0.85, 0.64], # starts   (x^3)\n",
    "   [0.22, 0.58, 0.33], # with     (x^4)\n",
    "   [0.77, 0.25, 0.10], # one      (x^5)\n",
    "   [0.05, 0.80, 0.55]] # step     (x^6)  \n",
    ")"
   ]
  },
  {
   "cell_type": "code",
   "execution_count": 3,
   "id": "f077bb62-8664-4007-965e-2c127a92c25a",
   "metadata": {},
   "outputs": [
    {
     "name": "stdout",
     "output_type": "stream",
     "text": [
      "(6, 6)\n",
      "(6, 6)\n",
      "(6, 3)\n",
      "attn_scores: array([[0.9995, 0.9544, 0.9422, 0.4753, 0.4576, 0.631],\n",
      "       [0.9544, 1.495, 1.4754, 0.8434, 0.707, 1.0865],\n",
      "       [0.9422, 1.4754, 1.457, 0.8296, 0.7154, 1.0605],\n",
      "       [0.4753, 0.8434, 0.8296, 0.4937, 0.3474, 0.6565],\n",
      "       [0.4576, 0.707, 0.7154, 0.3474, 0.6654, 0.2935],\n",
      "       [0.631, 1.0865, 1.0605, 0.6565, 0.2935, 0.945]], dtype=float32)\n",
      "attn_weights: array([[0.209835, 0.200581, 0.198149, 0.124228, 0.122049, 0.145158],\n",
      "       [0.138548, 0.237891, 0.233274, 0.123992, 0.108182, 0.158114],\n",
      "       [0.139008, 0.236921, 0.232602, 0.124204, 0.1108, 0.156464],\n",
      "       [0.143527, 0.207394, 0.204552, 0.146192, 0.126295, 0.172039],\n",
      "       [0.152611, 0.195839, 0.197491, 0.136687, 0.187859, 0.129514],\n",
      "       [0.138471, 0.218364, 0.212759, 0.142048, 0.0988064, 0.189552]], dtype=float32)\n",
      "context_vectors: array([[0.442059, 0.593099, 0.578989],\n",
      "       [0.441866, 0.651482, 0.568309],\n",
      "       [0.443128, 0.649595, 0.567073],\n",
      "       [0.43039, 0.629828, 0.551027],\n",
      "       [0.467102, 0.590993, 0.526597],\n",
      "       [0.417725, 0.650323, 0.564535]], dtype=float32)\n"
     ]
    }
   ],
   "source": [
    "attn_scores = mx.zeros([inputs.shape[0], inputs.shape[0]])\n",
    "attn_weights = mx.zeros([inputs.shape[0], inputs.shape[0]])\n",
    "context_vectors = mx.zeros([inputs.shape[0], inputs.shape[1]])\n",
    "print(attn_scores.shape)\n",
    "print(attn_weights.shape)\n",
    "print(context_vectors.shape)\n",
    "\n",
    "for i, x in enumerate(inputs):\n",
    "    # calculate attention scores\n",
    "    for j, y in enumerate(inputs):\n",
    "        attn_scores[i, j] = mx.tensordot(x, y, 1)\n",
    "    # calculate attention weights\n",
    "    attn_weights[i] = mx.softmax(attn_scores[i])\n",
    "    # calculate context vectors\n",
    "    for j, y in enumerate(inputs):\n",
    "        context_vectors[i] += y * attn_weights[i, j]\n",
    "\n",
    "print(f\"attn_scores: {attn_scores}\")\n",
    "print(f\"attn_weights: {attn_weights}\")\n",
    "print(f\"context_vectors: {context_vectors}\")"
   ]
  },
  {
   "cell_type": "code",
   "execution_count": 4,
   "id": "03143603-6c13-42e9-9b2d-74d456cd3705",
   "metadata": {},
   "outputs": [
    {
     "name": "stdout",
     "output_type": "stream",
     "text": [
      "(6, 6)\n",
      "(6, 6)\n",
      "(6, 3)\n",
      "attn_scores: array([[0.9995, 0.9544, 0.9422, 0.4753, 0.4576, 0.631],\n",
      "       [0.9544, 1.495, 1.4754, 0.8434, 0.707, 1.0865],\n",
      "       [0.9422, 1.4754, 1.457, 0.8296, 0.7154, 1.0605],\n",
      "       [0.4753, 0.8434, 0.8296, 0.4937, 0.3474, 0.6565],\n",
      "       [0.4576, 0.707, 0.7154, 0.3474, 0.6654, 0.2935],\n",
      "       [0.631, 1.0865, 1.0605, 0.6565, 0.2935, 0.945]], dtype=float32)\n",
      "attn_weights: array([[0.209835, 0.200581, 0.198149, 0.124228, 0.122049, 0.145158],\n",
      "       [0.138548, 0.237891, 0.233274, 0.123992, 0.108182, 0.158114],\n",
      "       [0.139008, 0.236921, 0.232602, 0.124204, 0.1108, 0.156464],\n",
      "       [0.143527, 0.207394, 0.204552, 0.146192, 0.126295, 0.172039],\n",
      "       [0.152611, 0.195839, 0.197491, 0.136687, 0.187859, 0.129514],\n",
      "       [0.138471, 0.218364, 0.212759, 0.142048, 0.0988064, 0.189552]], dtype=float32)\n",
      "context_vectors: array([[0.442059, 0.593099, 0.578989],\n",
      "       [0.441866, 0.651482, 0.568309],\n",
      "       [0.443128, 0.649595, 0.567073],\n",
      "       [0.43039, 0.629828, 0.551027],\n",
      "       [0.467102, 0.590993, 0.526596],\n",
      "       [0.417725, 0.650323, 0.564535]], dtype=float32)\n"
     ]
    }
   ],
   "source": [
    "attn_scores = mx.zeros([inputs.shape[0], inputs.shape[0]])\n",
    "attn_weights = mx.zeros([inputs.shape[0], inputs.shape[0]])\n",
    "context_vectors = mx.zeros([inputs.shape[0], inputs.shape[1]])\n",
    "print(attn_scores.shape)\n",
    "print(attn_weights.shape)\n",
    "print(context_vectors.shape)\n",
    "\n",
    "attn_scores = inputs @ inputs.T\n",
    "attn_weights = mx.softmax(attn_scores, axis=-1)\n",
    "context_vectors = attn_weights @ inputs\n",
    "\n",
    "print(f\"attn_scores: {attn_scores}\")\n",
    "print(f\"attn_weights: {attn_weights}\")\n",
    "print(f\"context_vectors: {context_vectors}\")"
   ]
  },
  {
   "cell_type": "code",
   "execution_count": 5,
   "id": "12d9a929-7406-4b84-b670-fbf6245f6b08",
   "metadata": {},
   "outputs": [],
   "source": [
    "mx.random.seed(123)"
   ]
  },
  {
   "cell_type": "code",
   "execution_count": 6,
   "id": "6382887d-099e-4044-9cf0-d6379bfc502a",
   "metadata": {},
   "outputs": [],
   "source": [
    "d_in=inputs.shape[1]\n",
    "d_out=2"
   ]
  },
  {
   "cell_type": "code",
   "execution_count": 7,
   "id": "30dc8b61-efbc-49df-b0c0-bc7fdc68ba17",
   "metadata": {},
   "outputs": [
    {
     "name": "stdout",
     "output_type": "stream",
     "text": [
      "array([[-0.543625, -0.357191, -0.369193],\n",
      "       [0.180697, 0.397937, 0.478428]], dtype=float32)\n",
      "array([[0.539553, -0.131374, 0.397048],\n",
      "       [0.491569, -0.49601, -0.050792]], dtype=float32)\n",
      "array([[0.289075, -0.445376, -0.425039],\n",
      "       [0.186969, -0.275999, -0.539648]], dtype=float32)\n"
     ]
    }
   ],
   "source": [
    "W_query = nn.Linear(d_in, d_out, bias=False)\n",
    "W_key = nn.Linear(d_in, d_out, bias=False)\n",
    "W_value = nn.Linear(d_in, d_out, bias=False)\n",
    "\n",
    "print(W_query.weight)\n",
    "print(W_key.weight)\n",
    "print(W_value.weight)"
   ]
  },
  {
   "cell_type": "code",
   "execution_count": 8,
   "id": "f78e3f4e-338c-4bce-bd9c-776d225be060",
   "metadata": {},
   "outputs": [
    {
     "name": "stdout",
     "output_type": "stream",
     "text": [
      "queries: array([[-0.61592, 0.563191],\n",
      "       [-0.853417, 0.761351],\n",
      "       [-0.849762, 0.747438],\n",
      "       [-0.448602, 0.428438],\n",
      "       [-0.544809, 0.286464],\n",
      "       [-0.51599, 0.59052]], dtype=float32)\n",
      "keys: array([[0.565675, 0.0917684],\n",
      "       [0.444511, -0.194688],\n",
      "       [0.449988, -0.173921],\n",
      "       [0.173531, -0.196302],\n",
      "       [0.422317, 0.249427],\n",
      "       [0.140255, -0.400165]], dtype=float32)\n",
      "values: array([[-0.320789, -0.44129],\n",
      "       [-0.509011, -0.493454],\n",
      "       [-0.485821, -0.473402],\n",
      "       [-0.334984, -0.29703],\n",
      "       [0.06874, 0.0210016],\n",
      "       [-0.575618, -0.508257]], dtype=float32)\n"
     ]
    }
   ],
   "source": [
    "queries = W_query(inputs)\n",
    "keys = W_key(inputs)\n",
    "values = W_value(inputs)\n",
    "\n",
    "print(f\"queries: {queries}\")\n",
    "print(f\"keys: {keys}\")\n",
    "print(f\"values: {values}\")"
   ]
  },
  {
   "cell_type": "code",
   "execution_count": 9,
   "id": "6c395008-42dc-44fc-a81a-857209b05403",
   "metadata": {},
   "outputs": [
    {
     "name": "stdout",
     "output_type": "stream",
     "text": [
      "attn_scores: array([[-0.296727, -0.38343, -0.375107, -0.217436, -0.119639, -0.311755],\n",
      "       [-0.412889, -0.527579, -0.516443, -0.297549, -0.170512, -0.424362],\n",
      "       [-0.412098, -0.523246, -0.512378, -0.294183, -0.172439, -0.418282],\n",
      "       [-0.214446, -0.28282, -0.27638, -0.161949, -0.0825886, -0.234365],\n",
      "       [-0.281896, -0.297944, -0.29498, -0.150774, -0.15863, -0.191045],\n",
      "       [-0.237691, -0.344331, -0.334893, -0.20546, -0.0706202, -0.308676]], dtype=float32)\n"
     ]
    }
   ],
   "source": [
    "attn_scores = queries @ keys.T\n",
    "print(f\"attn_scores: {attn_scores}\")"
   ]
  },
  {
   "cell_type": "code",
   "execution_count": 10,
   "id": "b2049f16-d1a8-4e89-886e-a796889c7b96",
   "metadata": {},
   "outputs": [
    {
     "name": "stdout",
     "output_type": "stream",
     "text": [
      "attn_weights: array([[0.164823, 0.155022, 0.155936, 0.174328, 0.18681, 0.163081],\n",
      "       [0.163523, 0.150785, 0.151977, 0.177419, 0.194094, 0.162202],\n",
      "       [0.163313, 0.150969, 0.152133, 0.177513, 0.193472, 0.1626],\n",
      "       [0.165796, 0.157971, 0.158692, 0.172066, 0.181998, 0.163477],\n",
      "       [0.160409, 0.158599, 0.158931, 0.175992, 0.175017, 0.171052],\n",
      "       [0.167773, 0.155587, 0.156629, 0.17164, 0.188811, 0.15956]], dtype=float32)\n"
     ]
    }
   ],
   "source": [
    "attn_weights = mx.softmax(attn_scores / keys.shape[-1]**0.5, axis=-1)\n",
    "print(f\"attn_weights: {attn_weights}\")"
   ]
  },
  {
   "cell_type": "code",
   "execution_count": 11,
   "id": "4cbb1353-2d85-4cf7-9e93-73a82ae26950",
   "metadata": {},
   "outputs": [
    {
     "data": {
      "text/plain": [
       "array(6, dtype=float32)"
      ]
     },
     "execution_count": 11,
     "metadata": {},
     "output_type": "execute_result"
    }
   ],
   "source": [
    "mx.sum(attn_weights)"
   ]
  },
  {
   "cell_type": "code",
   "execution_count": 12,
   "id": "b6cf3909-d3f8-46fc-8f69-ac65f9a96463",
   "metadata": {},
   "outputs": [
    {
     "name": "stdout",
     "output_type": "stream",
     "text": [
      "context_vectors: array([[-0.346966, -0.353796],\n",
      "       [-0.342498, -0.349576],\n",
      "       [-0.342904, -0.349891],\n",
      "       [-0.34992, -0.356615],\n",
      "       [-0.354782, -0.359824],\n",
      "       [-0.345472, -0.353074]], dtype=float32)\n"
     ]
    }
   ],
   "source": [
    "context_vectors = attn_weights @ values\n",
    "print(f\"context_vectors: {context_vectors}\")"
   ]
  },
  {
   "cell_type": "code",
   "execution_count": 13,
   "id": "5c107c7c-e946-4a67-98e8-12c9c264bd8e",
   "metadata": {},
   "outputs": [],
   "source": [
    "class SelfAttention_v1(nn.Module):\n",
    "    def __init__(self, d_in, d_out):\n",
    "        super().__init__()\n",
    "        self.d_in = d_in\n",
    "        self.d_out = d_out\n",
    "        self.W_query = nn.Linear(d_in, d_out, bias=False)\n",
    "        self.W_key = nn.Linear(d_in, d_out, bias=False)\n",
    "        self.W_value = nn.Linear(d_in, d_out, bias=False)\n",
    "\n",
    "    def __call__(self, x):\n",
    "        queries = self.W_query(x)\n",
    "        keys = self.W_key(x)\n",
    "        values = self.W_value(x)\n",
    "        attn_scores = queries @ keys.T\n",
    "        attn_weights = mx.softmax(attn_scores / keys.shape[-1] ** 0.5, axis=-1)\n",
    "        context_vectors = attn_weights @ values\n",
    "        return context_vectors"
   ]
  },
  {
   "cell_type": "code",
   "execution_count": 14,
   "id": "24a1dc96-ccfa-4b3d-95c7-003454285d0d",
   "metadata": {},
   "outputs": [
    {
     "name": "stdout",
     "output_type": "stream",
     "text": [
      "array([[0.0318105, 0.37613],\n",
      "       [0.0256262, 0.370863],\n",
      "       [0.0256772, 0.370911],\n",
      "       [0.0355207, 0.379327],\n",
      "       [0.0324242, 0.376756],\n",
      "       [0.0343046, 0.378258]], dtype=float32)\n"
     ]
    }
   ],
   "source": [
    "mx.random.seed(789)\n",
    "sav1 = SelfAttention_v1(d_in, d_out)\n",
    "print(sav1(inputs))"
   ]
  },
  {
   "cell_type": "code",
   "execution_count": 15,
   "id": "999c725e-30e2-4f58-b8e0-ec47ed125d8e",
   "metadata": {},
   "outputs": [
    {
     "name": "stdout",
     "output_type": "stream",
     "text": [
      "(2, 6, 3)\n"
     ]
    }
   ],
   "source": [
    "batch = mx.stack((inputs, inputs), 0)\n",
    "print(batch.shape)"
   ]
  },
  {
   "cell_type": "code",
   "execution_count": 16,
   "id": "bc984ed6-c841-4db0-abd2-117b409f3840",
   "metadata": {},
   "outputs": [],
   "source": [
    "class CausalAttention(nn.Module):\n",
    "    def __init__(self, d_in, d_out, context_length, dropout, qkv_bias=False):\n",
    "        super().__init__()\n",
    "        self.d_in = d_in\n",
    "        self.d_out = d_out\n",
    "        self.W_query = nn.Linear(d_in, d_out, bias=qkv_bias)\n",
    "        self.W_key = nn.Linear(d_in, d_out, bias=qkv_bias)\n",
    "        self.W_value = nn.Linear(d_in, d_out, bias=qkv_bias)\n",
    "        self.dropout = nn.Dropout(dropout)\n",
    "\n",
    "    def __call__(self, x):\n",
    "        b, num_tokens, d_in = x.shape\n",
    "        mask = nn.MultiHeadAttention.create_additive_causal_mask(num_tokens)\n",
    "        queries = self.W_query(x)\n",
    "        keys = self.W_key(x)\n",
    "        values = self.W_value(x)\n",
    "        attn_scores = queries @ keys.transpose(0, 2, 1)\n",
    "        attn_scores = attn_scores + mask\n",
    "        attn_weights = mx.softmax(attn_scores / keys.shape[-1] ** 0.5, axis=-1)\n",
    "        attn_weights = self.dropout(attn_weights)\n",
    "        context_vectors = attn_weights @ values\n",
    "        return context_vectors"
   ]
  },
  {
   "cell_type": "code",
   "execution_count": 17,
   "id": "2cee1f0d-4080-4318-ab43-7063b4dfebef",
   "metadata": {},
   "outputs": [
    {
     "name": "stdout",
     "output_type": "stream",
     "text": [
      "array([[[-0.320789, -0.44129],\n",
      "        [-0.411086, -0.466315],\n",
      "        [-0.435542, -0.468648],\n",
      "        [-0.409961, -0.423741],\n",
      "        [-0.309213, -0.329195],\n",
      "        [-0.345472, -0.353074]],\n",
      "       [[-0.320789, -0.44129],\n",
      "        [-0.411086, -0.466315],\n",
      "        [-0.435542, -0.468648],\n",
      "        [-0.409961, -0.423741],\n",
      "        [-0.309213, -0.329195],\n",
      "        [-0.345472, -0.353074]]], dtype=float32)\n"
     ]
    }
   ],
   "source": [
    "mx.random.seed(123)\n",
    "context_size = 6\n",
    "dropout = 0.0\n",
    "ca = CausalAttention(d_in,d_out,context_size,dropout)\n",
    "print(ca(batch))"
   ]
  },
  {
   "cell_type": "code",
   "execution_count": 18,
   "id": "137a7043-428c-4587-913b-95296c337cbf",
   "metadata": {},
   "outputs": [],
   "source": [
    "class MultiHeadAttentionWrapper(nn.Module):\n",
    "    def __init__(self, d_in, d_out, context_length, dropout, num_heads, qkv_bias=False):\n",
    "        super().__init__()\n",
    "        self.heads = [CausalAttention(d_in, d_out, context_length, dropout, qkv_bias)\n",
    "                      for _ in range(num_heads)]\n",
    "\n",
    "    def __call__(self, x):\n",
    "        return mx.concatenate([head(x) for head in self.heads], axis=-1)"
   ]
  },
  {
   "cell_type": "code",
   "execution_count": 19,
   "id": "ee540c71-fa19-4ac5-ba68-e8d4ea587036",
   "metadata": {},
   "outputs": [
    {
     "name": "stdout",
     "output_type": "stream",
     "text": [
      "array([[[-0.320789, -0.44129, -0.29132, -0.473982],\n",
      "        [-0.411086, -0.466315, -0.293595, -0.425057],\n",
      "        [-0.435542, -0.468648, -0.287361, -0.410947],\n",
      "        [-0.409961, -0.423741, -0.265774, -0.343301],\n",
      "        [-0.309213, -0.329195, -0.184421, -0.354609],\n",
      "        [-0.345472, -0.353074, -0.22734, -0.305751]],\n",
      "       [[-0.320789, -0.44129, -0.29132, -0.473982],\n",
      "        [-0.411086, -0.466315, -0.293595, -0.425057],\n",
      "        [-0.435542, -0.468648, -0.287361, -0.410947],\n",
      "        [-0.409961, -0.423741, -0.265774, -0.343301],\n",
      "        [-0.309213, -0.329195, -0.184421, -0.354609],\n",
      "        [-0.345472, -0.353074, -0.22734, -0.305751]]], dtype=float32)\n"
     ]
    }
   ],
   "source": [
    "mx.random.seed(123)\n",
    "mha = MultiHeadAttentionWrapper(d_in, d_out, context_size, dropout, 2)\n",
    "print(mha(batch))"
   ]
  },
  {
   "cell_type": "code",
   "execution_count": 20,
   "id": "b274e9b6-a6b5-4944-9017-d8cac050f014",
   "metadata": {},
   "outputs": [],
   "source": [
    "class MultiHeadAttention(nn.Module):\n",
    "    def __init__(self, d_in, d_out, context_length, dropout, num_heads, qkv_bias=False):\n",
    "        super().__init__()\n",
    "        assert d_out % num_heads == 0, \"d_out must be divisible by num_heads\"\n",
    "        self.d_in = d_in\n",
    "        self.d_out = d_out\n",
    "        self.num_heads = num_heads\n",
    "        self.head_dim = d_out // num_heads\n",
    "        self.W_query = nn.Linear(d_in, d_out, bias=qkv_bias)\n",
    "        self.W_key = nn.Linear(d_in, d_out, bias=qkv_bias)\n",
    "        self.W_value = nn.Linear(d_in, d_out, bias=qkv_bias)\n",
    "        self.out_proj  = nn.Linear(d_out, d_out)\n",
    "        self.dropout = nn.Dropout(dropout)\n",
    "\n",
    "    def __call__(self, x):\n",
    "        b, num_tokens, d_in = x.shape\n",
    "        mask = nn.MultiHeadAttention.create_additive_causal_mask(num_tokens)\n",
    "        \n",
    "        # W(x):\n",
    "        # (d_in, d_out) @ (b, num_tokens, d_in) -> (b, num_tokens, d_out)\n",
    "        # or\n",
    "        # Wx:\n",
    "        # (d_in, d_out) @ ((b, num_tokens, d_in) -> (b, d_in, num_tokens))\n",
    "        # -> (b, d_out, num_tokens) -> (b, num_tokens, d_out)\n",
    "        #foo = W_query.weight @ x.transpose(0, 2, 1)\n",
    "        #foo = foo.transpose(0, 2, 1)\n",
    "        #print(foo)\n",
    "        queries = self.W_query(x)\n",
    "        keys = self.W_key(x)\n",
    "        values = self.W_value(x)\n",
    "\n",
    "        #print(f\"queries before reshape: {queries}\")\n",
    "        #print(f\"queries shape before reshape: {queries.shape}\")\n",
    "        # b, num_tokens, d_out -> b, num_tokens, num_heads, head_dim\n",
    "        queries = queries.reshape(b, num_tokens, self.num_heads, self.head_dim)\n",
    "        #print(f\"queries after reshape: {queries}\")\n",
    "        #print(f\"queries shape after reshape: {queries.shape}\")\n",
    "        # b, num_tokens, d_out -> b, num_tokens, num_heads, head_dim\n",
    "        keys = keys.reshape(b, num_tokens, self.num_heads, self.head_dim)\n",
    "        # b, num_tokens, d_out -> b, num_tokens, num_heads, head_dim\n",
    "        values = values.reshape(b, num_tokens, self.num_heads, self.head_dim)\n",
    "        \n",
    "        queries = queries.transpose(0, 2, 1, 3) # b, num_heads, num_tokens, head_dim\n",
    "        keys = keys.transpose(0, 2, 1, 3) # b, num_heads, num_tokens, head_dim\n",
    "        values = values.transpose(0, 2, 1, 3) # b, num_heads, num_tokens, head_dim\n",
    "\n",
    "        # (b, num_heads, num_tokens, head_dim) @ (b, num_heads, head_dim, num_tokens)\n",
    "        # -> (b, num_heads, num_tokens, num_tokens)\n",
    "        attn_scores = queries @ keys.transpose(0, 1, 3, 2)\n",
    "        #print(f\"attn_scores shape: {attn_scores.shape}\")\n",
    "        # applied to each head\n",
    "        attn_scores = attn_scores + mask\n",
    "        # applied to each head\n",
    "        attn_weights = mx.softmax(attn_scores / keys.shape[-1] ** 0.5, axis=-1)\n",
    "        #print(f\"attn_weights: {attn_weights}\")\n",
    "        #print(f\"attn_weights shape: {attn_weights.shape}\")\n",
    "        # applied to each head\n",
    "        attn_weights = self.dropout(attn_weights)\n",
    "        # (b, num_heads, num_tokens, num_tokens) @ (b, num_heads, num_tokens, head_dim)\n",
    "        # -> (b, num_heads, num_tokens, head_dim) -> (b, num_tokens, num_heads, head_dim)\n",
    "        context_vectors = (attn_weights @ values).transpose(0, 2, 1, 3)\n",
    "        #print(f\"context_vectors shape: {context_vectors.shape}\")\n",
    "        context_vectors = context_vectors.reshape(b, num_tokens, self.d_out)\n",
    "        #print(f\"context_vectors reshape shape: {context_vectors.shape}\")\n",
    "        context_vectors = self.out_proj(context_vectors)\n",
    "        return context_vectors\n",
    "        "
   ]
  },
  {
   "cell_type": "code",
   "execution_count": 21,
   "id": "8c3d2d8a-7405-4cba-bdd4-81b3a70afc0e",
   "metadata": {},
   "outputs": [
    {
     "name": "stdout",
     "output_type": "stream",
     "text": [
      "array([[[0.409174, 0.713412],\n",
      "        [0.386287, 0.749947],\n",
      "        [0.377017, 0.775004],\n",
      "        [0.373301, 0.785103],\n",
      "        [0.372671, 0.790298],\n",
      "        [0.38174, 0.792961]],\n",
      "       [[0.409174, 0.713412],\n",
      "        [0.386287, 0.749947],\n",
      "        [0.377017, 0.775004],\n",
      "        [0.373301, 0.785103],\n",
      "        [0.372671, 0.790298],\n",
      "        [0.38174, 0.792961]]], dtype=float32)\n"
     ]
    }
   ],
   "source": [
    "mx.random.seed(123)\n",
    "mha = MultiHeadAttention(d_in=3, d_out=2, context_length=context_size, dropout=dropout, num_heads=2)\n",
    "print(mha(batch))"
   ]
  },
  {
   "cell_type": "code",
   "execution_count": 22,
   "id": "eeb40811-1525-43fc-9310-7342bcd1a5b4",
   "metadata": {},
   "outputs": [],
   "source": [
    "GPT_CONFIG_124M = {\n",
    "    \"vocab_size\": 50257,\n",
    "    \"context_length\": 1024,\n",
    "    \"emb_dim\": 768,\n",
    "    \"n_heads\": 12,\n",
    "    \"n_layers\": 12,\n",
    "    \"drop_rate\": 0.0,\n",
    "    \"qkv_bias\": False,\n",
    "}"
   ]
  },
  {
   "cell_type": "code",
   "execution_count": 23,
   "id": "e1cce8d3-43f5-44fb-a81a-92b689db73a7",
   "metadata": {},
   "outputs": [],
   "source": [
    "class DummyGPTModel(nn.Module):\n",
    "    def __init__(self, cfg):\n",
    "        super().__init__()\n",
    "        self.tok_emb = nn.Embedding(cfg[\"vocab_size\"], cfg[\"emb_dim\"])\n",
    "        self.pos_emb = nn.Embedding(cfg[\"context_length\"], cfg[\"emb_dim\"])\n",
    "        self.drop_emb = nn.Dropout(cfg[\"drop_rate\"])\n",
    "        self.trf_blocks = nn.Sequential(\n",
    "            *[DummyTransformerBlock(cfg) for _ in range(cfg[\"n_layers\"])])\n",
    "        self.final_norm = DummyLayerNorm(cfg[\"emb_dim\"])\n",
    "        self.out_head = nn.Linear(cfg[\"emb_dim\"], cfg[\"vocab_size\"], bias=False)\n",
    "\n",
    "    def __call__(self, in_idx):\n",
    "        batch_size, seq_len = in_idx.shape\n",
    "        tok_embeds = self.tok_emb(in_idx)\n",
    "        pos_embeds = self.pos_emb(in_idx)\n",
    "        x = tok_embeds + pos_embeds\n",
    "        x = self.drop_emb(x)\n",
    "        x = self.trf_blocks(x)\n",
    "        x = self.final_norm(x)\n",
    "        logits = self.out_head(x)\n",
    "        return logits\n",
    "\n",
    "class DummyTransformerBlock(nn.Module):\n",
    "    def __init__(self, cfg):\n",
    "        super().__init__()\n",
    "\n",
    "    def __call__(self, x):\n",
    "        return x\n",
    "\n",
    "class DummyLayerNorm(nn.Module):\n",
    "    def __init__(self, normalized_shape, eps=1e-5):\n",
    "        super().__init__()\n",
    "\n",
    "    def __call__(self, x):\n",
    "        return x"
   ]
  },
  {
   "cell_type": "code",
   "execution_count": 24,
   "id": "049b1fd5-ea07-45d3-a306-871cf2597519",
   "metadata": {},
   "outputs": [
    {
     "name": "stdout",
     "output_type": "stream",
     "text": [
      "DummyGPTModel(\n",
      "  (tok_emb): Embedding(50257, 768)\n",
      "  (pos_emb): Embedding(1024, 768)\n",
      "  (drop_emb): Dropout(p=0.0)\n",
      "  (trf_blocks): Sequential(\n",
      "    (layers.0): DummyTransformerBlock()\n",
      "    (layers.1): DummyTransformerBlock()\n",
      "    (layers.2): DummyTransformerBlock()\n",
      "    (layers.3): DummyTransformerBlock()\n",
      "    (layers.4): DummyTransformerBlock()\n",
      "    (layers.5): DummyTransformerBlock()\n",
      "    (layers.6): DummyTransformerBlock()\n",
      "    (layers.7): DummyTransformerBlock()\n",
      "    (layers.8): DummyTransformerBlock()\n",
      "    (layers.9): DummyTransformerBlock()\n",
      "    (layers.10): DummyTransformerBlock()\n",
      "    (layers.11): DummyTransformerBlock()\n",
      "  )\n",
      "  (final_norm): DummyLayerNorm()\n",
      "  (out_head): Linear(input_dims=768, output_dims=50257, bias=False)\n",
      ")\n"
     ]
    }
   ],
   "source": [
    "model = DummyGPTModel(GPT_CONFIG_124M)\n",
    "print(model)"
   ]
  },
  {
   "cell_type": "code",
   "execution_count": 25,
   "id": "01888b36-1d5b-4959-9772-d5acccccd846",
   "metadata": {},
   "outputs": [
    {
     "name": "stdout",
     "output_type": "stream",
     "text": [
      "array([[6109, 3626, 6100, 345],\n",
      "       [6109, 1110, 6622, 257]], dtype=int32)\n"
     ]
    }
   ],
   "source": [
    "import tiktoken\n",
    "\n",
    "tokenizer = tiktoken.get_encoding(\"gpt2\")\n",
    "batch = []\n",
    "txt1 = \"Every effort moves you\"\n",
    "txt2 = \"Every day holds a\"\n",
    "\n",
    "batch.append(mx.array(tokenizer.encode(txt1)))\n",
    "batch.append(mx.array(tokenizer.encode(txt2)))\n",
    "batch = mx.stack(batch, 0)\n",
    "print(batch)"
   ]
  },
  {
   "cell_type": "code",
   "execution_count": 26,
   "id": "6ed99a98-db78-4158-9580-9048d1f8c7a5",
   "metadata": {},
   "outputs": [
    {
     "name": "stdout",
     "output_type": "stream",
     "text": [
      "Outputs shape: (2, 4, 50257)\n",
      "array([[[0.0267821, 0.0155803, 0.0453118, ..., -0.0255345, -0.00809556, 0.00276685],\n",
      "        [-0.0111713, 0.000690083, 0.00707004, ..., 0.049819, -0.015654, 0.0250585],\n",
      "        [0.0376061, 0.000597336, 0.0115421, ..., 0.0217559, 0.00157742, 0.0142852],\n",
      "        [-0.0245741, -0.00587755, -0.0392182, ..., 0.0260377, 0.0335556, -0.0157044]],\n",
      "       [[0.0267821, 0.0155803, 0.0453118, ..., -0.0255345, -0.00809556, 0.00276685],\n",
      "        [-0.0079119, 0.0182537, 0.015258, ..., -0.0132906, -0.0449415, 0.00437768],\n",
      "        [0.0288839, -0.0181241, -0.00847724, ..., -0.0113709, 0.0126249, -0.00459235],\n",
      "        [-0.0185885, -0.0469349, 0.00496355, ..., 0.00933472, -0.0203806, 0.0187356]]], dtype=float32)\n"
     ]
    }
   ],
   "source": [
    "mx.random.seed(123)\n",
    "model = DummyGPTModel(GPT_CONFIG_124M)\n",
    "logits = model(batch)\n",
    "print(\"Outputs shape:\", logits.shape)\n",
    "print(logits)"
   ]
  },
  {
   "cell_type": "code",
   "execution_count": 27,
   "id": "f6dd6110-de5f-4ee2-bfc8-aa97e5f560dc",
   "metadata": {},
   "outputs": [],
   "source": [
    "class LayerNorm(nn.Module):\n",
    "    def __init__(self, emb_dim):\n",
    "        super().__init__()\n",
    "        self.eps = 1e-5\n",
    "        self.scale = mx.ones((1, emb_dim)) # need to figure out how to make trainable parameter\n",
    "        self.shift = mx.zeros((1, emb_dim)) # need to figure out how to make trainable parameter\n",
    "\n",
    "    def __call__(self, x):\n",
    "        mean = x.mean(axis=-1, keepdims=True)\n",
    "        var = x.var(axis=-1, keepdims=True)\n",
    "        norm_x = (x - mean) / mx.sqrt(var + self.eps)\n",
    "        return self.scale * norm_x + self.shift"
   ]
  },
  {
   "cell_type": "code",
   "execution_count": 28,
   "id": "e5f1c22d-7d0a-47e3-9af7-c6bac474b33d",
   "metadata": {},
   "outputs": [
    {
     "name": "stdout",
     "output_type": "stream",
     "text": [
      "array([[-1.19209e-08],\n",
      "       [-3.57628e-08]], dtype=float32)\n",
      "array([[0.999989],\n",
      "       [0.999989]], dtype=float32)\n"
     ]
    }
   ],
   "source": [
    "batch_example = mx.random.normal([2, 5])\n",
    "ln = LayerNorm(emb_dim=5)\n",
    "out_ln = ln(batch_example)\n",
    "mean = out_ln.mean(axis=-1, keepdims=True)\n",
    "var = out_ln.var(axis=-1, keepdims=True)\n",
    "print(mean)\n",
    "print(var)"
   ]
  },
  {
   "cell_type": "code",
   "execution_count": 29,
   "id": "23d3dec2-9732-4fa2-8034-3d6ffec80f4d",
   "metadata": {},
   "outputs": [],
   "source": [
    "class GELU(nn.Module):\n",
    "    def __init__(self):\n",
    "        super().__init__()\n",
    "\n",
    "    def __call__(self, x):\n",
    "        return 0.5 * x * (1 + mx.tanh(\n",
    "            mx.sqrt(mx.array(2.0 / mx.pi)) *\n",
    "            (x + 0.044715 * mx.power(x, 3))\n",
    "        ))"
   ]
  },
  {
   "cell_type": "code",
   "execution_count": 30,
   "id": "72ac507f-75f1-46ed-b9fe-1da5ad382962",
   "metadata": {},
   "outputs": [
    {
     "data": {
      "text/plain": [
       "array(0.841192, dtype=float32)"
      ]
     },
     "execution_count": 30,
     "metadata": {},
     "output_type": "execute_result"
    }
   ],
   "source": [
    "gelu = GELU()\n",
    "gelu(1)"
   ]
  },
  {
   "cell_type": "code",
   "execution_count": 31,
   "id": "26699329-1be7-4c89-84ce-88aa674ed0e1",
   "metadata": {},
   "outputs": [],
   "source": [
    "class FeedForward(nn.Module):\n",
    "    def __init__(self, cfg):\n",
    "        super().__init__()\n",
    "        self.layers = nn.Sequential(\n",
    "            nn.Linear(cfg[\"emb_dim\"], 4 * cfg[\"emb_dim\"]),\n",
    "            GELU(),\n",
    "            nn.Linear(4 * cfg[\"emb_dim\"], cfg[\"emb_dim\"])\n",
    "        )\n",
    "\n",
    "    def __call__(self, x):\n",
    "        return self.layers(x)"
   ]
  },
  {
   "cell_type": "code",
   "execution_count": 32,
   "id": "30cee70a-e998-4c3f-b255-af575bafa06a",
   "metadata": {},
   "outputs": [
    {
     "name": "stdout",
     "output_type": "stream",
     "text": [
      "array([[[-0.0544744, 0.0381818, 0.100466, ..., -0.0528314, 0.397373, -0.0204547],\n",
      "        [0.00997397, -0.144488, -0.184294, ..., -0.392208, 0.202146, 0.156895],\n",
      "        [0.0389329, 0.0107757, 0.216761, ..., -0.179308, -0.224197, -0.0595259]],\n",
      "       [[-0.195685, -0.289583, 0.171215, ..., 0.208507, 0.0598475, 0.117642],\n",
      "        [-0.00110584, 0.0251188, 0.00942689, ..., 0.0129131, -0.0736913, 0.143136],\n",
      "        [0.0868328, 0.283533, 0.109481, ..., 0.126102, 0.0610082, -0.05509]]], dtype=float32)\n"
     ]
    }
   ],
   "source": [
    "ffn = FeedForward(GPT_CONFIG_124M)\n",
    "x = mx.random.normal([2, 3, 768])\n",
    "out = ffn(x)\n",
    "print(out)"
   ]
  },
  {
   "cell_type": "code",
   "execution_count": 33,
   "id": "3f8af3d9-439e-439b-8f4a-29f1058dff51",
   "metadata": {},
   "outputs": [],
   "source": [
    "class TransformerBlock(nn.Module):\n",
    "    def __init__(self, cfg):\n",
    "        super().__init__()\n",
    "        self.att = MultiHeadAttention(\n",
    "            d_in=cfg[\"emb_dim\"],\n",
    "            d_out=cfg[\"emb_dim\"],\n",
    "            context_length=cfg[\"context_length\"],\n",
    "            num_heads=cfg[\"n_heads\"],\n",
    "            dropout=cfg[\"drop_rate\"],\n",
    "            qkv_bias=cfg[\"qkv_bias\"])\n",
    "        self.ff = FeedForward(cfg)\n",
    "        self.norm1 = LayerNorm(cfg[\"emb_dim\"])\n",
    "        self.norm2 = LayerNorm(cfg[\"emb_dim\"])\n",
    "        self.drop_resid = nn.Dropout(cfg[\"drop_rate\"])\n",
    "\n",
    "    def __call__(self, x):\n",
    "        shortcut = x\n",
    "        x = self.norm1(x)\n",
    "        x = self.att(x)\n",
    "        x = self.drop_resid(x)\n",
    "        x = x + shortcut\n",
    "\n",
    "        shortcut = x\n",
    "        x = self.norm2(x)\n",
    "        x = self.ff(x)\n",
    "        x = self.drop_resid(x)\n",
    "        x = x + shortcut\n",
    "        return x"
   ]
  },
  {
   "cell_type": "code",
   "execution_count": 34,
   "id": "06660af8-f495-4c94-8d5b-6595fe5593af",
   "metadata": {},
   "outputs": [
    {
     "name": "stdout",
     "output_type": "stream",
     "text": [
      "Input shape: (2, 4, 768)\n",
      "Output shape: (2, 4, 768)\n"
     ]
    }
   ],
   "source": [
    "mx.random.seed(123)\n",
    "x = mx.random.normal([2, 4, 768])\n",
    "block = TransformerBlock(GPT_CONFIG_124M)\n",
    "output = block(x)\n",
    " \n",
    "print(\"Input shape:\", x.shape)\n",
    "print(\"Output shape:\", output.shape)"
   ]
  },
  {
   "cell_type": "code",
   "execution_count": 35,
   "id": "4779dc0e-0003-42d7-8ec9-789a3547e296",
   "metadata": {},
   "outputs": [
    {
     "name": "stdout",
     "output_type": "stream",
     "text": [
      "array([[[-0.0782003, 0.987442, -0.94922, ..., 0.229853, -0.141867, -0.0107715],\n",
      "        [1.01852, 1.36634, 0.335559, ..., -0.409853, -0.265894, 1.22219],\n",
      "        [-1.2842, -0.0756759, -0.0471307, ..., -0.331826, 0.380631, 0.966117],\n",
      "        [-0.271844, -0.407028, 0.713517, ..., -0.857271, -1.33917, -1.52331]],\n",
      "       [[-1.36221, 2.13323, -0.0549182, ..., -0.124698, -0.573453, 0.370974],\n",
      "        [-0.977188, 0.941463, -1.4587, ..., -0.751929, 0.145659, -1.06629],\n",
      "        [-0.417758, -0.636303, -0.488185, ..., 0.147002, 0.342525, -0.617717],\n",
      "        [0.230238, -0.789932, 1.51675, ..., 0.74364, 0.210596, -1.63052]]], dtype=float32)\n"
     ]
    }
   ],
   "source": [
    "print(output)"
   ]
  },
  {
   "cell_type": "code",
   "execution_count": 36,
   "id": "7f6f4016-f153-4aaa-8037-1f4d84c463a6",
   "metadata": {},
   "outputs": [],
   "source": [
    "class GPTModel(nn.Module):\n",
    "    def __init__(self, cfg):\n",
    "        super().__init__()\n",
    "        self.tok_emb = nn.Embedding(cfg[\"vocab_size\"], cfg[\"emb_dim\"])\n",
    "        self.pos_emb = nn.Embedding(cfg[\"context_length\"], cfg[\"emb_dim\"])\n",
    "        self.drop_emb = nn.Dropout(cfg[\"drop_rate\"])\n",
    "\n",
    "        self.trf_blocks = nn.Sequential(\n",
    "            *[TransformerBlock(cfg) for _ in range(cfg[\"n_layers\"])])\n",
    "        \n",
    "        self.final_norm = LayerNorm(cfg[\"emb_dim\"])\n",
    "        self.out_head = nn.Linear(cfg[\"emb_dim\"], cfg[\"vocab_size\"], bias=False)\n",
    "\n",
    "    def __call__(self, in_idx):\n",
    "        batch_size, seq_len = in_idx.shape\n",
    "        tok_embeds = self.tok_emb(in_idx)\n",
    "        pos_embeds = self.pos_emb(mx.arange(seq_len))\n",
    "        x = tok_embeds + pos_embeds\n",
    "        x = self.drop_emb(x)\n",
    "        x = self.trf_blocks(x)\n",
    "        x = self.final_norm(x)\n",
    "        logits = self.out_head(x)\n",
    "        return logits"
   ]
  },
  {
   "cell_type": "code",
   "execution_count": 37,
   "id": "f6f1fdb4-db03-4b50-9c11-ec03d3d7316c",
   "metadata": {},
   "outputs": [
    {
     "name": "stdout",
     "output_type": "stream",
     "text": [
      "Input batch:\n",
      " array([[6109, 3626, 6100, 345],\n",
      "       [6109, 1110, 6622, 257]], dtype=int32)\n",
      "\n",
      "Output shape: (2, 4, 50257)\n",
      "array([[[-0.294867, 0.121118, -0.106109, ..., 0.328127, 0.382442, -0.200526],\n",
      "        [0.00421821, -0.0701152, -0.0358834, ..., -0.215521, 0.312019, -0.64688],\n",
      "        [-0.184812, -0.0243292, -0.129321, ..., -0.0671608, 0.421177, -0.480935],\n",
      "        [-0.423911, -0.150163, -0.359892, ..., 0.0569235, 0.144322, -0.833008]],\n",
      "       [[-0.294867, 0.121118, -0.106109, ..., 0.328127, 0.382442, -0.200526],\n",
      "        [-0.0484023, -0.301322, -0.0913256, ..., 0.13583, 0.371111, -0.635227],\n",
      "        [-0.205792, -0.286355, -0.177945, ..., 0.400727, 0.694369, -0.803182],\n",
      "        [-0.0800309, -0.236314, -0.479477, ..., 0.254939, 0.8567, -1.07093]]], dtype=float32)\n"
     ]
    }
   ],
   "source": [
    "mx.random.seed(123)\n",
    "model = GPTModel(GPT_CONFIG_124M)\n",
    " \n",
    "out = model(batch)\n",
    "print(\"Input batch:\\n\", batch)\n",
    "print(\"\\nOutput shape:\", out.shape)\n",
    "print(out)"
   ]
  },
  {
   "cell_type": "code",
   "execution_count": 38,
   "id": "17d06b7b-5a1c-4f55-87ef-fb7c3438faa8",
   "metadata": {},
   "outputs": [
    {
     "name": "stdout",
     "output_type": "stream",
     "text": [
      "Token embedding layer shape: (50257, 768)\n",
      "Output layer shape: (50257, 768)\n"
     ]
    }
   ],
   "source": [
    "print(\"Token embedding layer shape:\", model.tok_emb.weight.shape)\n",
    "print(\"Output layer shape:\", model.out_head.weight.shape)"
   ]
  },
  {
   "cell_type": "code",
   "execution_count": 39,
   "id": "85e58fdb-6636-4361-91c9-ecd007a2b8ba",
   "metadata": {},
   "outputs": [],
   "source": [
    "def generate_text_simple(model, idx, max_new_tokens, context_size):\n",
    "    for _ in range(max_new_tokens):\n",
    "        idx_cond = idx[:, -context_size:]\n",
    "        logits = model(idx_cond)\n",
    "       \n",
    "        logits = logits[:, -1, :]\n",
    "        probas = mx.softmax(logits, axis=-1)\n",
    "        idx_next = mx.argmax(probas, axis=-1, keepdims=True)\n",
    "        idx = mx.concatenate((idx, idx_next), axis=1)\n",
    " \n",
    "    return idx"
   ]
  },
  {
   "cell_type": "code",
   "execution_count": 40,
   "id": "f1f9298d-9fea-4692-9e99-fab4a5aaf5e4",
   "metadata": {},
   "outputs": [
    {
     "name": "stdout",
     "output_type": "stream",
     "text": [
      "encoded: [15496, 11, 314, 716]\n",
      "encoded_tensor.shape: (1, 4)\n"
     ]
    }
   ],
   "source": [
    "start_context = \"Hello, I am\"\n",
    "encoded = tokenizer.encode(start_context)\n",
    "print(\"encoded:\", encoded)\n",
    "encoded_tensor = mx.expand_dims(mx.array(encoded), 0)\n",
    "print(\"encoded_tensor.shape:\", encoded_tensor.shape)"
   ]
  },
  {
   "cell_type": "code",
   "execution_count": 41,
   "id": "d7f82606-00ab-4580-997a-99c2a1b420e7",
   "metadata": {},
   "outputs": [
    {
     "name": "stdout",
     "output_type": "stream",
     "text": [
      "Output: array([[15496, 11, 314, ..., 7646, 7646, 29160]], dtype=int64)\n",
      "Output length: 10\n"
     ]
    }
   ],
   "source": [
    "model.eval()\n",
    "out = generate_text_simple(\n",
    "    model=model,\n",
    "    idx=encoded_tensor, \n",
    "    max_new_tokens=6, \n",
    "    context_size=GPT_CONFIG_124M[\"context_length\"]\n",
    ")\n",
    "print(\"Output:\", out)\n",
    "print(\"Output length:\", len(out[0]))"
   ]
  },
  {
   "cell_type": "code",
   "execution_count": 42,
   "id": "5358b6a1-0248-43c8-9a10-8527a9796c5f",
   "metadata": {},
   "outputs": [
    {
     "name": "stdout",
     "output_type": "stream",
     "text": [
      "Hello, I am strict strict strict strict strictwagen\n"
     ]
    }
   ],
   "source": [
    "decoded_text = tokenizer.decode(out.squeeze(0).tolist())\n",
    "print(decoded_text)"
   ]
  },
  {
   "cell_type": "code",
   "execution_count": 43,
   "id": "0385984e-8a1e-416b-afe1-eb2180b2fc8d",
   "metadata": {},
   "outputs": [
    {
     "data": {
      "text/plain": [
       "GPTModel(\n",
       "  (tok_emb): Embedding(50257, 768)\n",
       "  (pos_emb): Embedding(256, 768)\n",
       "  (drop_emb): Dropout(p=0.09999999999999998)\n",
       "  (trf_blocks): Sequential(\n",
       "    (layers.0): TransformerBlock(\n",
       "      (att): MultiHeadAttention(\n",
       "        (W_query): Linear(input_dims=768, output_dims=768, bias=False)\n",
       "        (W_key): Linear(input_dims=768, output_dims=768, bias=False)\n",
       "        (W_value): Linear(input_dims=768, output_dims=768, bias=False)\n",
       "        (out_proj): Linear(input_dims=768, output_dims=768, bias=True)\n",
       "        (dropout): Dropout(p=0.09999999999999998)\n",
       "      )\n",
       "      (ff): FeedForward(\n",
       "        (layers): Sequential(\n",
       "          (layers.0): Linear(input_dims=768, output_dims=3072, bias=True)\n",
       "          (layers.1): GELU()\n",
       "          (layers.2): Linear(input_dims=3072, output_dims=768, bias=True)\n",
       "        )\n",
       "      )\n",
       "      (norm1): LayerNorm()\n",
       "      (norm2): LayerNorm()\n",
       "      (drop_resid): Dropout(p=0.09999999999999998)\n",
       "    )\n",
       "    (layers.1): TransformerBlock(\n",
       "      (att): MultiHeadAttention(\n",
       "        (W_query): Linear(input_dims=768, output_dims=768, bias=False)\n",
       "        (W_key): Linear(input_dims=768, output_dims=768, bias=False)\n",
       "        (W_value): Linear(input_dims=768, output_dims=768, bias=False)\n",
       "        (out_proj): Linear(input_dims=768, output_dims=768, bias=True)\n",
       "        (dropout): Dropout(p=0.09999999999999998)\n",
       "      )\n",
       "      (ff): FeedForward(\n",
       "        (layers): Sequential(\n",
       "          (layers.0): Linear(input_dims=768, output_dims=3072, bias=True)\n",
       "          (layers.1): GELU()\n",
       "          (layers.2): Linear(input_dims=3072, output_dims=768, bias=True)\n",
       "        )\n",
       "      )\n",
       "      (norm1): LayerNorm()\n",
       "      (norm2): LayerNorm()\n",
       "      (drop_resid): Dropout(p=0.09999999999999998)\n",
       "    )\n",
       "    (layers.2): TransformerBlock(\n",
       "      (att): MultiHeadAttention(\n",
       "        (W_query): Linear(input_dims=768, output_dims=768, bias=False)\n",
       "        (W_key): Linear(input_dims=768, output_dims=768, bias=False)\n",
       "        (W_value): Linear(input_dims=768, output_dims=768, bias=False)\n",
       "        (out_proj): Linear(input_dims=768, output_dims=768, bias=True)\n",
       "        (dropout): Dropout(p=0.09999999999999998)\n",
       "      )\n",
       "      (ff): FeedForward(\n",
       "        (layers): Sequential(\n",
       "          (layers.0): Linear(input_dims=768, output_dims=3072, bias=True)\n",
       "          (layers.1): GELU()\n",
       "          (layers.2): Linear(input_dims=3072, output_dims=768, bias=True)\n",
       "        )\n",
       "      )\n",
       "      (norm1): LayerNorm()\n",
       "      (norm2): LayerNorm()\n",
       "      (drop_resid): Dropout(p=0.09999999999999998)\n",
       "    )\n",
       "    (layers.3): TransformerBlock(\n",
       "      (att): MultiHeadAttention(\n",
       "        (W_query): Linear(input_dims=768, output_dims=768, bias=False)\n",
       "        (W_key): Linear(input_dims=768, output_dims=768, bias=False)\n",
       "        (W_value): Linear(input_dims=768, output_dims=768, bias=False)\n",
       "        (out_proj): Linear(input_dims=768, output_dims=768, bias=True)\n",
       "        (dropout): Dropout(p=0.09999999999999998)\n",
       "      )\n",
       "      (ff): FeedForward(\n",
       "        (layers): Sequential(\n",
       "          (layers.0): Linear(input_dims=768, output_dims=3072, bias=True)\n",
       "          (layers.1): GELU()\n",
       "          (layers.2): Linear(input_dims=3072, output_dims=768, bias=True)\n",
       "        )\n",
       "      )\n",
       "      (norm1): LayerNorm()\n",
       "      (norm2): LayerNorm()\n",
       "      (drop_resid): Dropout(p=0.09999999999999998)\n",
       "    )\n",
       "    (layers.4): TransformerBlock(\n",
       "      (att): MultiHeadAttention(\n",
       "        (W_query): Linear(input_dims=768, output_dims=768, bias=False)\n",
       "        (W_key): Linear(input_dims=768, output_dims=768, bias=False)\n",
       "        (W_value): Linear(input_dims=768, output_dims=768, bias=False)\n",
       "        (out_proj): Linear(input_dims=768, output_dims=768, bias=True)\n",
       "        (dropout): Dropout(p=0.09999999999999998)\n",
       "      )\n",
       "      (ff): FeedForward(\n",
       "        (layers): Sequential(\n",
       "          (layers.0): Linear(input_dims=768, output_dims=3072, bias=True)\n",
       "          (layers.1): GELU()\n",
       "          (layers.2): Linear(input_dims=3072, output_dims=768, bias=True)\n",
       "        )\n",
       "      )\n",
       "      (norm1): LayerNorm()\n",
       "      (norm2): LayerNorm()\n",
       "      (drop_resid): Dropout(p=0.09999999999999998)\n",
       "    )\n",
       "    (layers.5): TransformerBlock(\n",
       "      (att): MultiHeadAttention(\n",
       "        (W_query): Linear(input_dims=768, output_dims=768, bias=False)\n",
       "        (W_key): Linear(input_dims=768, output_dims=768, bias=False)\n",
       "        (W_value): Linear(input_dims=768, output_dims=768, bias=False)\n",
       "        (out_proj): Linear(input_dims=768, output_dims=768, bias=True)\n",
       "        (dropout): Dropout(p=0.09999999999999998)\n",
       "      )\n",
       "      (ff): FeedForward(\n",
       "        (layers): Sequential(\n",
       "          (layers.0): Linear(input_dims=768, output_dims=3072, bias=True)\n",
       "          (layers.1): GELU()\n",
       "          (layers.2): Linear(input_dims=3072, output_dims=768, bias=True)\n",
       "        )\n",
       "      )\n",
       "      (norm1): LayerNorm()\n",
       "      (norm2): LayerNorm()\n",
       "      (drop_resid): Dropout(p=0.09999999999999998)\n",
       "    )\n",
       "    (layers.6): TransformerBlock(\n",
       "      (att): MultiHeadAttention(\n",
       "        (W_query): Linear(input_dims=768, output_dims=768, bias=False)\n",
       "        (W_key): Linear(input_dims=768, output_dims=768, bias=False)\n",
       "        (W_value): Linear(input_dims=768, output_dims=768, bias=False)\n",
       "        (out_proj): Linear(input_dims=768, output_dims=768, bias=True)\n",
       "        (dropout): Dropout(p=0.09999999999999998)\n",
       "      )\n",
       "      (ff): FeedForward(\n",
       "        (layers): Sequential(\n",
       "          (layers.0): Linear(input_dims=768, output_dims=3072, bias=True)\n",
       "          (layers.1): GELU()\n",
       "          (layers.2): Linear(input_dims=3072, output_dims=768, bias=True)\n",
       "        )\n",
       "      )\n",
       "      (norm1): LayerNorm()\n",
       "      (norm2): LayerNorm()\n",
       "      (drop_resid): Dropout(p=0.09999999999999998)\n",
       "    )\n",
       "    (layers.7): TransformerBlock(\n",
       "      (att): MultiHeadAttention(\n",
       "        (W_query): Linear(input_dims=768, output_dims=768, bias=False)\n",
       "        (W_key): Linear(input_dims=768, output_dims=768, bias=False)\n",
       "        (W_value): Linear(input_dims=768, output_dims=768, bias=False)\n",
       "        (out_proj): Linear(input_dims=768, output_dims=768, bias=True)\n",
       "        (dropout): Dropout(p=0.09999999999999998)\n",
       "      )\n",
       "      (ff): FeedForward(\n",
       "        (layers): Sequential(\n",
       "          (layers.0): Linear(input_dims=768, output_dims=3072, bias=True)\n",
       "          (layers.1): GELU()\n",
       "          (layers.2): Linear(input_dims=3072, output_dims=768, bias=True)\n",
       "        )\n",
       "      )\n",
       "      (norm1): LayerNorm()\n",
       "      (norm2): LayerNorm()\n",
       "      (drop_resid): Dropout(p=0.09999999999999998)\n",
       "    )\n",
       "    (layers.8): TransformerBlock(\n",
       "      (att): MultiHeadAttention(\n",
       "        (W_query): Linear(input_dims=768, output_dims=768, bias=False)\n",
       "        (W_key): Linear(input_dims=768, output_dims=768, bias=False)\n",
       "        (W_value): Linear(input_dims=768, output_dims=768, bias=False)\n",
       "        (out_proj): Linear(input_dims=768, output_dims=768, bias=True)\n",
       "        (dropout): Dropout(p=0.09999999999999998)\n",
       "      )\n",
       "      (ff): FeedForward(\n",
       "        (layers): Sequential(\n",
       "          (layers.0): Linear(input_dims=768, output_dims=3072, bias=True)\n",
       "          (layers.1): GELU()\n",
       "          (layers.2): Linear(input_dims=3072, output_dims=768, bias=True)\n",
       "        )\n",
       "      )\n",
       "      (norm1): LayerNorm()\n",
       "      (norm2): LayerNorm()\n",
       "      (drop_resid): Dropout(p=0.09999999999999998)\n",
       "    )\n",
       "    (layers.9): TransformerBlock(\n",
       "      (att): MultiHeadAttention(\n",
       "        (W_query): Linear(input_dims=768, output_dims=768, bias=False)\n",
       "        (W_key): Linear(input_dims=768, output_dims=768, bias=False)\n",
       "        (W_value): Linear(input_dims=768, output_dims=768, bias=False)\n",
       "        (out_proj): Linear(input_dims=768, output_dims=768, bias=True)\n",
       "        (dropout): Dropout(p=0.09999999999999998)\n",
       "      )\n",
       "      (ff): FeedForward(\n",
       "        (layers): Sequential(\n",
       "          (layers.0): Linear(input_dims=768, output_dims=3072, bias=True)\n",
       "          (layers.1): GELU()\n",
       "          (layers.2): Linear(input_dims=3072, output_dims=768, bias=True)\n",
       "        )\n",
       "      )\n",
       "      (norm1): LayerNorm()\n",
       "      (norm2): LayerNorm()\n",
       "      (drop_resid): Dropout(p=0.09999999999999998)\n",
       "    )\n",
       "    (layers.10): TransformerBlock(\n",
       "      (att): MultiHeadAttention(\n",
       "        (W_query): Linear(input_dims=768, output_dims=768, bias=False)\n",
       "        (W_key): Linear(input_dims=768, output_dims=768, bias=False)\n",
       "        (W_value): Linear(input_dims=768, output_dims=768, bias=False)\n",
       "        (out_proj): Linear(input_dims=768, output_dims=768, bias=True)\n",
       "        (dropout): Dropout(p=0.09999999999999998)\n",
       "      )\n",
       "      (ff): FeedForward(\n",
       "        (layers): Sequential(\n",
       "          (layers.0): Linear(input_dims=768, output_dims=3072, bias=True)\n",
       "          (layers.1): GELU()\n",
       "          (layers.2): Linear(input_dims=3072, output_dims=768, bias=True)\n",
       "        )\n",
       "      )\n",
       "      (norm1): LayerNorm()\n",
       "      (norm2): LayerNorm()\n",
       "      (drop_resid): Dropout(p=0.09999999999999998)\n",
       "    )\n",
       "    (layers.11): TransformerBlock(\n",
       "      (att): MultiHeadAttention(\n",
       "        (W_query): Linear(input_dims=768, output_dims=768, bias=False)\n",
       "        (W_key): Linear(input_dims=768, output_dims=768, bias=False)\n",
       "        (W_value): Linear(input_dims=768, output_dims=768, bias=False)\n",
       "        (out_proj): Linear(input_dims=768, output_dims=768, bias=True)\n",
       "        (dropout): Dropout(p=0.09999999999999998)\n",
       "      )\n",
       "      (ff): FeedForward(\n",
       "        (layers): Sequential(\n",
       "          (layers.0): Linear(input_dims=768, output_dims=3072, bias=True)\n",
       "          (layers.1): GELU()\n",
       "          (layers.2): Linear(input_dims=3072, output_dims=768, bias=True)\n",
       "        )\n",
       "      )\n",
       "      (norm1): LayerNorm()\n",
       "      (norm2): LayerNorm()\n",
       "      (drop_resid): Dropout(p=0.09999999999999998)\n",
       "    )\n",
       "  )\n",
       "  (final_norm): LayerNorm()\n",
       "  (out_head): Linear(input_dims=768, output_dims=50257, bias=False)\n",
       ")"
      ]
     },
     "execution_count": 43,
     "metadata": {},
     "output_type": "execute_result"
    }
   ],
   "source": [
    "GPT_CONFIG_124M = {\n",
    "    \"vocab_size\": 50257,\n",
    "    \"context_length\": 256,\n",
    "    \"emb_dim\": 768,\n",
    "    \"n_heads\": 12,\n",
    "    \"n_layers\": 12, \n",
    "    \"drop_rate\": 0.1,\n",
    "    \"qkv_bias\": False\n",
    "}\n",
    "mx.random.seed(123)\n",
    "model = GPTModel(GPT_CONFIG_124M)\n",
    "model.eval()"
   ]
  },
  {
   "cell_type": "code",
   "execution_count": 44,
   "id": "bbf9efea-edb2-4caf-b1b3-8577cb76e826",
   "metadata": {},
   "outputs": [
    {
     "name": "stdout",
     "output_type": "stream",
     "text": [
      "Output text:\n",
      " Every effort moves you DMVSK DMVieversseparSKseparseparseparsepar\n"
     ]
    }
   ],
   "source": [
    "def text_to_token_ids(text, tokenizer):\n",
    "    encoded = tokenizer.encode(text, allowed_special={'<|endoftext|>'})\n",
    "    encoded_tensor = mx.expand_dims(mx.array(encoded), 0) # add batch dimension\n",
    "    return encoded_tensor\n",
    " \n",
    "def token_ids_to_text(token_ids, tokenizer):\n",
    "    flat = token_ids.squeeze(0) # remove batch dimension\n",
    "    return tokenizer.decode(flat.tolist())\n",
    " \n",
    "start_context = \"Every effort moves you\"\n",
    "tokenizer = tiktoken.get_encoding(\"gpt2\")\n",
    " \n",
    "token_ids = generate_text_simple(\n",
    "    model=model,\n",
    "    idx=text_to_token_ids(start_context, tokenizer),\n",
    "    max_new_tokens=10,\n",
    "    context_size=GPT_CONFIG_124M[\"context_length\"]\n",
    ")\n",
    "print(\"Output text:\\n\", token_ids_to_text(token_ids, tokenizer))"
   ]
  },
  {
   "cell_type": "code",
   "execution_count": 45,
   "id": "75f5751c-7708-4575-9ec8-e88124933946",
   "metadata": {},
   "outputs": [],
   "source": [
    "file_path = \"shakespeare.txt\"\n",
    "with open(file_path, \"r\", encoding=\"utf-8\") as file:\n",
    "    text_data = file.read()"
   ]
  },
  {
   "cell_type": "code",
   "execution_count": 46,
   "id": "f19eeccb-9d2b-4a8e-a6a8-a645ad3cc3f7",
   "metadata": {},
   "outputs": [
    {
     "name": "stdout",
     "output_type": "stream",
     "text": [
      "Characters: 94275\n",
      "Tokens: 25284\n"
     ]
    }
   ],
   "source": [
    "total_characters = len(text_data)\n",
    "total_tokens = len(tokenizer.encode(text_data))\n",
    "print(\"Characters:\", total_characters)\n",
    "print(\"Tokens:\", total_tokens)"
   ]
  },
  {
   "cell_type": "code",
   "execution_count": 47,
   "id": "61233497-f8cb-409f-b0fd-81eb4d996414",
   "metadata": {},
   "outputs": [],
   "source": [
    "train_ratio = 0.90\n",
    "split_idx = int(train_ratio * len(text_data))\n",
    "train_data = text_data[:split_idx]\n",
    "val_data = text_data[split_idx:]"
   ]
  },
  {
   "cell_type": "code",
   "execution_count": 48,
   "id": "cee69c1d-0261-437b-8c81-d2910552fd3c",
   "metadata": {},
   "outputs": [],
   "source": [
    "import torch\n",
    "from torch.utils.data import Dataset, DataLoader\n",
    "\n",
    "class GPTDatasetV1(Dataset):\n",
    "    def __init__(self, txt, tokenizer, max_length, stride):\n",
    "        self.input_ids = []\n",
    "        self.target_ids = []\n",
    "\n",
    "        # Tokenize the entire text\n",
    "        token_ids = tokenizer.encode(txt)\n",
    "\n",
    "        # Use a sliding window to chunk the book into overlapping sequences of max_length\n",
    "        for i in range(0, len(token_ids) - max_length, stride):\n",
    "            input_chunk = token_ids[i:i + max_length]\n",
    "            target_chunk = token_ids[i + 1: i + max_length + 1]\n",
    "            self.input_ids.append(torch.tensor(input_chunk))\n",
    "            self.target_ids.append(torch.tensor(target_chunk))\n",
    "\n",
    "    def __len__(self):\n",
    "        return len(self.input_ids)\n",
    "\n",
    "    def __getitem__(self, idx):\n",
    "        return self.input_ids[idx], self.target_ids[idx]\n",
    "\n",
    "\n",
    "def create_dataloader_v1(txt, batch_size=4, max_length=256,\n",
    "                         stride=128, shuffle=True, drop_last=True, num_workers=0):\n",
    "    # Initialize the tokenizer\n",
    "    tokenizer = tiktoken.get_encoding(\"gpt2\")\n",
    "\n",
    "    # Create dataset\n",
    "    dataset = GPTDatasetV1(txt, tokenizer, max_length, stride)\n",
    "\n",
    "    # Create dataloader\n",
    "    dataloader = DataLoader(\n",
    "        dataset, batch_size=batch_size, shuffle=shuffle, drop_last=drop_last, num_workers=0)\n",
    "\n",
    "    return dataloader"
   ]
  },
  {
   "cell_type": "code",
   "execution_count": 49,
   "id": "0044da36-29c8-483a-9dea-4b14f59662cf",
   "metadata": {},
   "outputs": [],
   "source": [
    "torch.manual_seed(123)\n",
    " \n",
    "train_loader = create_dataloader_v1(\n",
    "    train_data,\n",
    "    batch_size=2,\n",
    "    max_length=GPT_CONFIG_124M[\"context_length\"],\n",
    "    stride=GPT_CONFIG_124M[\"context_length\"],\n",
    "    drop_last=True,\n",
    "    shuffle=False\n",
    ")\n",
    "val_loader = create_dataloader_v1(\n",
    "    val_data,\n",
    "    batch_size=2,\n",
    "    max_length=GPT_CONFIG_124M[\"context_length\"],\n",
    "    stride=GPT_CONFIG_124M[\"context_length\"],\n",
    "    drop_last=False,\n",
    "    shuffle=False\n",
    ")"
   ]
  },
  {
   "cell_type": "code",
   "execution_count": 50,
   "id": "1493271f-8e8c-478e-a409-18e3f4e6b1ef",
   "metadata": {},
   "outputs": [
    {
     "name": "stdout",
     "output_type": "stream",
     "text": [
      "Train loader:\n",
      "torch.Size([2, 256]) torch.Size([2, 256])\n",
      "torch.Size([2, 256]) torch.Size([2, 256])\n",
      "torch.Size([2, 256]) torch.Size([2, 256])\n",
      "torch.Size([2, 256]) torch.Size([2, 256])\n",
      "torch.Size([2, 256]) torch.Size([2, 256])\n",
      "torch.Size([2, 256]) torch.Size([2, 256])\n",
      "torch.Size([2, 256]) torch.Size([2, 256])\n",
      "torch.Size([2, 256]) torch.Size([2, 256])\n",
      "torch.Size([2, 256]) torch.Size([2, 256])\n",
      "torch.Size([2, 256]) torch.Size([2, 256])\n",
      "torch.Size([2, 256]) torch.Size([2, 256])\n",
      "torch.Size([2, 256]) torch.Size([2, 256])\n",
      "torch.Size([2, 256]) torch.Size([2, 256])\n",
      "torch.Size([2, 256]) torch.Size([2, 256])\n",
      "torch.Size([2, 256]) torch.Size([2, 256])\n",
      "torch.Size([2, 256]) torch.Size([2, 256])\n",
      "torch.Size([2, 256]) torch.Size([2, 256])\n",
      "torch.Size([2, 256]) torch.Size([2, 256])\n",
      "torch.Size([2, 256]) torch.Size([2, 256])\n",
      "torch.Size([2, 256]) torch.Size([2, 256])\n",
      "torch.Size([2, 256]) torch.Size([2, 256])\n",
      "torch.Size([2, 256]) torch.Size([2, 256])\n",
      "torch.Size([2, 256]) torch.Size([2, 256])\n",
      "torch.Size([2, 256]) torch.Size([2, 256])\n",
      "torch.Size([2, 256]) torch.Size([2, 256])\n",
      "torch.Size([2, 256]) torch.Size([2, 256])\n",
      "torch.Size([2, 256]) torch.Size([2, 256])\n",
      "torch.Size([2, 256]) torch.Size([2, 256])\n",
      "torch.Size([2, 256]) torch.Size([2, 256])\n",
      "torch.Size([2, 256]) torch.Size([2, 256])\n",
      "torch.Size([2, 256]) torch.Size([2, 256])\n",
      "torch.Size([2, 256]) torch.Size([2, 256])\n",
      "torch.Size([2, 256]) torch.Size([2, 256])\n",
      "torch.Size([2, 256]) torch.Size([2, 256])\n",
      "torch.Size([2, 256]) torch.Size([2, 256])\n",
      "torch.Size([2, 256]) torch.Size([2, 256])\n",
      "torch.Size([2, 256]) torch.Size([2, 256])\n",
      "torch.Size([2, 256]) torch.Size([2, 256])\n",
      "torch.Size([2, 256]) torch.Size([2, 256])\n",
      "torch.Size([2, 256]) torch.Size([2, 256])\n",
      "torch.Size([2, 256]) torch.Size([2, 256])\n",
      "torch.Size([2, 256]) torch.Size([2, 256])\n",
      "torch.Size([2, 256]) torch.Size([2, 256])\n",
      "torch.Size([2, 256]) torch.Size([2, 256])\n",
      "\n",
      "Validation loader:\n",
      "torch.Size([2, 256]) torch.Size([2, 256])\n",
      "torch.Size([2, 256]) torch.Size([2, 256])\n",
      "torch.Size([2, 256]) torch.Size([2, 256])\n",
      "torch.Size([2, 256]) torch.Size([2, 256])\n",
      "torch.Size([2, 256]) torch.Size([2, 256])\n",
      "THE SONNETS\n",
      "\n",
      "by William Shakespeare\n",
      "\n",
      "From fairest creatures we desire increase,\n",
      "That thereby beauty's rose might never die,\n",
      "But as the riper should by time decease,\n",
      "His tender heir might bear his memory:\n",
      "But thou contracted to thine own bright eyes,\n",
      "Feed'st thy light's flame with self-substantial fuel,\n",
      "Making a famine where abundance lies,\n",
      "Thy self thy foe, to thy sweet self too cruel:\n",
      "Thou that art now the world's fresh ornament,\n",
      "And only herald to the gaudy spring,\n",
      "Within thine own bud buriest thy content,\n",
      "And tender churl mak'st waste in niggarding:\n",
      "Pity the world, or else this glutton be,\n",
      "To eat the world's due, by the grave and thee.\n",
      "\n",
      "When forty winters shall besiege thy brow,\n",
      "And dig deep trenches in thy beauty's field,\n",
      "Thy youth's proud livery so gazed on now,\n",
      "Will be a tattered weed of small worth held:  \n",
      "Then being asked, where all thy beauty lies,\n",
      "Where all the treasure of thy lusty days;\n",
      "To say within thine own deep sunken\n"
     ]
    }
   ],
   "source": [
    "print(\"Train loader:\")\n",
    "for x, y in train_loader:\n",
    "    print(x.shape, y.shape)\n",
    " \n",
    "print(\"\\nValidation loader:\")\n",
    "for x, y in val_loader:\n",
    "    print(x.shape, y.shape)\n",
    "\n",
    "samples = next(iter(train_loader))\n",
    "sample = samples[0][0]\n",
    "text = tokenizer.decode(sample.tolist())\n",
    "print(text)"
   ]
  },
  {
   "cell_type": "code",
   "execution_count": 51,
   "id": "dd6b8419-5d17-49dc-954f-53ada4215fce",
   "metadata": {},
   "outputs": [],
   "source": [
    "import numpy as np\n",
    "\n",
    "def calc_loss_batch(model, input_batch, target_batch):\n",
    "    input_batch, target_batch = input_batch, target_batch\n",
    "    logits = model(input_batch)\n",
    "    mlx_logits = logits.flatten(0, 1)\n",
    "    mlx_target_batch = target_batch.flatten()\n",
    "    #print(\"mlx_logits shape:\", mlx_logits.shape)\n",
    "    #print(\"mlx_target_batch shape:\", mlx_target_batch.shape)\n",
    "    mlx_loss = nn.losses.cross_entropy(\n",
    "        mlx_logits, mlx_target_batch, reduction='mean'\n",
    "    )\n",
    "    pytorch_logits = torch.tensor(np.array(logits)).flatten(0, 1)\n",
    "    pytorch_target_batch = torch.tensor(np.array(target_batch)).flatten()\n",
    "    #print(\"pytorch_logits shape:\", pytorch_logits.shape)\n",
    "    #print(\"pytorch_target_batch shape:\", pytorch_target_batch.shape)\n",
    "    pytorch_loss = torch.nn.CrossEntropyLoss()\n",
    "    pytorch_loss_output = pytorch_loss(pytorch_logits, pytorch_target_batch)\n",
    "    #print(\"mlx_loss:\", mlx_loss)\n",
    "    #print(\"pytorch_loss:\", pytorch_loss_output)\n",
    "    return mlx_loss"
   ]
  },
  {
   "cell_type": "code",
   "execution_count": 52,
   "id": "c42b445b-449e-4158-906e-c049fd197766",
   "metadata": {},
   "outputs": [],
   "source": [
    "def calc_loss_loader(data_loader, model, num_batches=None):\n",
    "    total_loss = 0.\n",
    "    if num_batches is None:\n",
    "        num_batches = len(data_loader)\n",
    "    else:\n",
    "        num_batches = min(num_batches, len(data_loader))\n",
    "    for i, (input_batch, target_batch) in enumerate(data_loader):\n",
    "        if i < num_batches:\n",
    "            loss = calc_loss_batch(model, mx.array(input_batch.numpy()), mx.array(target_batch.numpy()))\n",
    "            total_loss += loss.item()\n",
    "        else:\n",
    "            break\n",
    "    return total_loss / num_batches"
   ]
  },
  {
   "cell_type": "code",
   "execution_count": 53,
   "id": "51762dbb-b372-486c-8af1-ed49dcfd85bb",
   "metadata": {},
   "outputs": [
    {
     "data": {
      "text/plain": [
       "array(11.0006, dtype=float32)"
      ]
     },
     "execution_count": 53,
     "metadata": {},
     "output_type": "execute_result"
    }
   ],
   "source": [
    "calc_loss_batch(model, mx.array(samples[0].numpy()), mx.array(samples[1].numpy()))"
   ]
  },
  {
   "cell_type": "code",
   "execution_count": 54,
   "id": "3b9e8814-3e6d-4190-b9c6-80f98b3f5f69",
   "metadata": {},
   "outputs": [
    {
     "name": "stdout",
     "output_type": "stream",
     "text": [
      "Training loss: 10.960246714678677\n",
      "Validation loss: 10.9336727142334\n"
     ]
    }
   ],
   "source": [
    "train_loss = calc_loss_loader(train_loader, model)\n",
    "val_loss = calc_loss_loader(val_loader, model)\n",
    "print(\"Training loss:\", train_loss)\n",
    "print(\"Validation loss:\", val_loss)"
   ]
  },
  {
   "cell_type": "code",
   "execution_count": 55,
   "id": "5c931e52-0d19-4db4-b87c-83c5294e3d77",
   "metadata": {},
   "outputs": [],
   "source": [
    "def train_model_simple(model, train_loader, val_loader, optimizer, num_epochs,\n",
    "                       eval_freq, eval_iter, start_context):\n",
    "    train_losses, val_losses, track_tokens_seen = [], [], []\n",
    "    tokens_seen, global_step = 0, -1\n",
    "\n",
    "    loss_and_grad_fn = nn.value_and_grad(model, calc_loss_batch)\n",
    "    \n",
    "    for epoch in range(num_epochs):\n",
    "        for input_batch, target_batch in train_loader:\n",
    "            input_batch = mx.array(input_batch.numpy())\n",
    "            target_batch = mx.array(target_batch.numpy())\n",
    "            loss, grads = loss_and_grad_fn(model, input_batch, target_batch)\n",
    "            optimizer.update(model, grads)\n",
    "            mx.eval(model.parameters(), optimizer.state)\n",
    "            \n",
    "            tokens_seen += input_batch.size\n",
    "            global_step += 1\n",
    " \n",
    "            if global_step % eval_freq == 0:\n",
    "                train_loss, val_loss = evaluate_model(\n",
    "                    model, train_loader, val_loader, eval_iter)\n",
    "                train_losses.append(train_loss)\n",
    "                val_losses.append(val_loss)\n",
    "                track_tokens_seen.append(tokens_seen)\n",
    "                print(f\"Ep {epoch+1} (Step {global_step:06d}): \"\n",
    "                      f\"Train loss {train_loss:.3f}, Val loss {val_loss:.3f}\")\n",
    " \n",
    "        generate_and_print_sample(\n",
    "            model, tokenizer, start_context\n",
    "        )\n",
    "    return train_losses, val_losses, track_tokens_seen"
   ]
  },
  {
   "cell_type": "code",
   "execution_count": 56,
   "id": "1282568f-beb3-4081-8338-3719e3fba2f0",
   "metadata": {},
   "outputs": [],
   "source": [
    "def evaluate_model(model, train_loader, val_loader, eval_iter):\n",
    "    model.eval()\n",
    "    train_loss = calc_loss_loader(train_loader, model, num_batches=eval_iter)\n",
    "    val_loss = calc_loss_loader(val_loader, model, num_batches=eval_iter)\n",
    "    model.train()\n",
    "    return train_loss, val_loss"
   ]
  },
  {
   "cell_type": "code",
   "execution_count": 57,
   "id": "e82bd7d1-84cc-4eb7-9f07-8c84ce76a5c1",
   "metadata": {},
   "outputs": [],
   "source": [
    "def generate_and_print_sample(model, tokenizer, start_context):\n",
    "    model.eval()\n",
    "    context_size = model.pos_emb.weight.shape[0]\n",
    "    encoded = text_to_token_ids(start_context, tokenizer)\n",
    "    token_ids = generate_text_simple(\n",
    "        model=model, idx=encoded,\n",
    "        max_new_tokens=50, context_size=context_size\n",
    "    )\n",
    "    decoded_text = token_ids_to_text(token_ids, tokenizer)\n",
    "    print(decoded_text.replace(\"\\n\", \" \"))  # Compact print format\n",
    "    model.train()"
   ]
  },
  {
   "cell_type": "code",
   "execution_count": 58,
   "id": "f600049b-e0a3-43cd-91c6-e4f66ff17a06",
   "metadata": {},
   "outputs": [
    {
     "name": "stdout",
     "output_type": "stream",
     "text": [
      "{'vocab_size': 50257, 'context_length': 256, 'emb_dim': 768, 'n_heads': 12, 'n_layers': 12, 'drop_rate': 0.1, 'qkv_bias': False}\n",
      "Ep 1 (Step 000000): Train loss 11.001, Val loss 10.875\n",
      "Ep 1 (Step 000005): Train loss 9.248, Val loss 9.246\n",
      "Ep 1 (Step 000010): Train loss 8.535, Val loss 8.577\n",
      "Ep 1 (Step 000015): Train loss 7.472, Val loss 7.611\n",
      "Ep 1 (Step 000020): Train loss 6.588, Val loss 6.897\n",
      "Ep 1 (Step 000025): Train loss 6.357, Val loss 6.791\n",
      "Ep 1 (Step 000030): Train loss 6.366, Val loss 6.789\n",
      "Ep 1 (Step 000035): Train loss 6.232, Val loss 6.627\n",
      "Ep 1 (Step 000040): Train loss 6.295, Val loss 6.530\n",
      "Every effort moves you,  , , , , , , , , , , , , , , , , , , , , , , , ,\n",
      "Ep 2 (Step 000045): Train loss 6.058, Val loss 6.399\n",
      "Ep 2 (Step 000050): Train loss 5.781, Val loss 6.481\n",
      "Ep 2 (Step 000055): Train loss 5.856, Val loss 6.458\n",
      "Ep 2 (Step 000060): Train loss 6.102, Val loss 6.459\n",
      "Ep 2 (Step 000065): Train loss 6.181, Val loss 6.501\n",
      "Ep 2 (Step 000070): Train loss 6.229, Val loss 6.541\n",
      "Ep 2 (Step 000075): Train loss 6.215, Val loss 6.479\n",
      "Ep 2 (Step 000080): Train loss 6.180, Val loss 6.426\n",
      "Ep 2 (Step 000085): Train loss 6.120, Val loss 6.322\n",
      "Every effort moves you,                                                 \n",
      "Ep 3 (Step 000090): Train loss 5.839, Val loss 6.319\n",
      "Ep 3 (Step 000095): Train loss 5.601, Val loss 6.339\n",
      "Ep 3 (Step 000100): Train loss 5.629, Val loss 6.320\n",
      "Ep 3 (Step 000105): Train loss 5.760, Val loss 6.269\n",
      "Ep 3 (Step 000110): Train loss 5.846, Val loss 6.254\n",
      "Ep 3 (Step 000115): Train loss 5.902, Val loss 6.277\n",
      "Ep 3 (Step 000120): Train loss 5.895, Val loss 6.222\n",
      "Ep 3 (Step 000125): Train loss 5.903, Val loss 6.228\n",
      "Ep 3 (Step 000130): Train loss 5.901, Val loss 6.171\n",
      "Every effort moves you, And, And, And, And, And, And, And,, And, And, And, And, And, And, And, And, And,\n",
      "Ep 4 (Step 000135): Train loss 5.629, Val loss 6.163\n",
      "Ep 4 (Step 000140): Train loss 5.522, Val loss 6.183\n",
      "Ep 4 (Step 000145): Train loss 5.544, Val loss 6.176\n",
      "Ep 4 (Step 000150): Train loss 5.642, Val loss 6.196\n",
      "Ep 4 (Step 000155): Train loss 5.686, Val loss 6.195\n",
      "Ep 4 (Step 000160): Train loss 5.733, Val loss 6.195\n",
      "Ep 4 (Step 000165): Train loss 5.751, Val loss 6.164\n",
      "Ep 4 (Step 000170): Train loss 5.763, Val loss 6.143\n",
      "Ep 4 (Step 000175): Train loss 5.789, Val loss 6.114\n",
      "Every effort moves you, And to, And, And, And, And, And to, And to, And to to, And to, And, And, And to, And, And to\n",
      "Ep 5 (Step 000180): Train loss 5.530, Val loss 6.087\n",
      "Ep 5 (Step 000185): Train loss 5.455, Val loss 6.107\n",
      "Ep 5 (Step 000190): Train loss 5.442, Val loss 6.095\n",
      "Ep 5 (Step 000195): Train loss 5.480, Val loss 6.102\n",
      "Ep 5 (Step 000200): Train loss 5.541, Val loss 6.139\n",
      "Ep 5 (Step 000205): Train loss 5.583, Val loss 6.159\n",
      "Ep 5 (Step 000210): Train loss 5.628, Val loss 6.144\n",
      "Ep 5 (Step 000215): Train loss 5.641, Val loss 6.165\n",
      "Every effort moves you, And I I I I I I I I I I I I I I I, And, And I I I I I I, And, And I I I I I I I I, And I I I\n",
      "Ep 6 (Step 000220): Train loss 5.632, Val loss 6.126\n",
      "Ep 6 (Step 000225): Train loss 5.440, Val loss 6.137\n",
      "Ep 6 (Step 000230): Train loss 5.367, Val loss 6.128\n",
      "Ep 6 (Step 000235): Train loss 5.324, Val loss 6.066\n",
      "Ep 6 (Step 000240): Train loss 5.387, Val loss 6.115\n",
      "Ep 6 (Step 000245): Train loss 5.407, Val loss 6.138\n",
      "Ep 6 (Step 000250): Train loss 5.431, Val loss 6.089\n",
      "Ep 6 (Step 000255): Train loss 5.521, Val loss 6.139\n",
      "Ep 6 (Step 000260): Train loss 5.537, Val loss 6.116\n",
      "Every effort moves you, And I I I I I I I I I I I I I I I I I I I Ioth I I I Ioth I I I I I Ioth I, And I I I I I I I I I I\n",
      "Ep 7 (Step 000265): Train loss 5.430, Val loss 6.131\n",
      "Ep 7 (Step 000270): Train loss 5.266, Val loss 6.094\n",
      "Ep 7 (Step 000275): Train loss 5.199, Val loss 6.093\n",
      "Ep 7 (Step 000280): Train loss 5.358, Val loss 6.126\n",
      "Ep 7 (Step 000285): Train loss 5.275, Val loss 6.199\n",
      "Ep 7 (Step 000290): Train loss 5.334, Val loss 6.177\n",
      "Ep 7 (Step 000295): Train loss 5.369, Val loss 6.100\n",
      "Ep 7 (Step 000300): Train loss 5.393, Val loss 6.136\n",
      "Ep 7 (Step 000305): Train loss 5.425, Val loss 6.118\n",
      "Every effort moves you,  And I I I I I I I I I I I I I I I I I I I I I I I I I I I I I I I I I I I I I I I I I I I I I I\n",
      "Ep 8 (Step 000310): Train loss 5.288, Val loss 6.124\n",
      "Ep 8 (Step 000315): Train loss 5.148, Val loss 6.092\n",
      "Ep 8 (Step 000320): Train loss 5.137, Val loss 6.089\n",
      "Ep 8 (Step 000325): Train loss 5.267, Val loss 6.119\n",
      "Ep 8 (Step 000330): Train loss 5.216, Val loss 6.158\n",
      "Ep 8 (Step 000335): Train loss 5.225, Val loss 6.193\n",
      "Ep 8 (Step 000340): Train loss 5.343, Val loss 6.176\n",
      "Ep 8 (Step 000345): Train loss 5.411, Val loss 6.155\n",
      "Ep 8 (Step 000350): Train loss 5.382, Val loss 6.186\n",
      "Every effort moves you, And I I love, And I I I theoth I I I theoth I I theoth I I I I I I I I theoth I I love, And I I theoth I I theoth I theoth\n",
      "Ep 9 (Step 000355): Train loss 5.215, Val loss 6.184\n",
      "Ep 9 (Step 000360): Train loss 5.095, Val loss 6.151\n",
      "Ep 9 (Step 000365): Train loss 5.067, Val loss 6.164\n",
      "Ep 9 (Step 000370): Train loss 5.131, Val loss 6.132\n",
      "Ep 9 (Step 000375): Train loss 5.120, Val loss 6.146\n",
      "Ep 9 (Step 000380): Train loss 5.238, Val loss 6.343\n",
      "Ep 9 (Step 000385): Train loss 5.314, Val loss 6.258\n",
      "Ep 9 (Step 000390): Train loss 5.383, Val loss 6.194\n",
      "Ep 9 (Step 000395): Train loss 5.297, Val loss 6.192\n",
      "Every effort moves you, And the'And the'And the'And the'And the''And the'And the''And the'And the''And the'''''And the'And the''''And I\n",
      "Ep 10 (Step 000400): Train loss 5.113, Val loss 6.257\n",
      "Ep 10 (Step 000405): Train loss 5.029, Val loss 6.206\n",
      "Ep 10 (Step 000410): Train loss 5.018, Val loss 6.153\n",
      "Ep 10 (Step 000415): Train loss 5.066, Val loss 6.163\n",
      "Ep 10 (Step 000420): Train loss 5.054, Val loss 6.178\n",
      "Ep 10 (Step 000425): Train loss 5.102, Val loss 6.300\n",
      "Ep 10 (Step 000430): Train loss 5.199, Val loss 6.325\n",
      "Ep 10 (Step 000435): Train loss 5.232, Val loss 6.206\n",
      "Every effort moves you,                                                 \n"
     ]
    }
   ],
   "source": [
    "import mlx.optimizers as optim\n",
    "\n",
    "print(GPT_CONFIG_124M)\n",
    "mx.random.seed(123)\n",
    "model = GPTModel(GPT_CONFIG_124M)\n",
    "mx.eval(model.parameters())\n",
    "optimizer = optim.AdamW(learning_rate=optim.linear_schedule(0.0, 0.0002, 50), weight_decay=0.1)\n",
    "num_epochs = 10\n",
    "train_losses, val_losses, tokens_seen = train_model_simple(\n",
    "    model, train_loader, val_loader, optimizer,\n",
    "    num_epochs=num_epochs, eval_freq=5, eval_iter=1,\n",
    "    start_context=\"Every effort moves you\"\n",
    ")"
   ]
  },
  {
   "cell_type": "code",
   "execution_count": 59,
   "id": "af13880c-3f36-4aa5-bc01-553ec5b54e83",
   "metadata": {},
   "outputs": [
    {
     "name": "stdout",
     "output_type": "stream",
     "text": [
      "162419712\n"
     ]
    }
   ],
   "source": [
    "from mlx.utils import tree_flatten\n",
    "num_params = sum(v.size for _, v in tree_flatten(model.parameters()))\n",
    "print(num_params)"
   ]
  },
  {
   "cell_type": "code",
   "execution_count": 60,
   "id": "cbabb5c6-9ef2-4f2a-abbf-900c6702e4d4",
   "metadata": {},
   "outputs": [
    {
     "data": {
      "image/png": "[encoded data removed]",
      "text/plain": [
       "<Figure size 500x300 with 2 Axes>"
      ]
     },
     "metadata": {},
     "output_type": "display_data"
    }
   ],
   "source": [
    "import matplotlib.pyplot as plt\n",
    "def plot_losses(epochs_seen, tokens_seen, train_losses, val_losses):\n",
    "    fig, ax1 = plt.subplots(figsize=(5, 3))\n",
    "    ax1.plot(epochs_seen, train_losses, label=\"Training loss\")\n",
    "    ax1.plot(epochs_seen, val_losses, linestyle=\"-.\", label=\"Validation loss\")\n",
    "    ax1.set_xlabel(\"Epochs\")\n",
    "    ax1.set_ylabel(\"Loss\")\n",
    "    ax1.legend(loc=\"upper right\")\n",
    "    ax2 = ax1.twiny()\n",
    "    ax2.plot(tokens_seen, train_losses, alpha=0)\n",
    "    ax2.set_xlabel(\"Tokens seen\")\n",
    "    fig.tight_layout()\n",
    "    plt.show()\n",
    " \n",
    "epochs_tensor = torch.linspace(0, num_epochs, len(train_losses))\n",
    "plot_losses(epochs_tensor, tokens_seen, train_losses, val_losses)"
   ]
  },
  {
   "cell_type": "code",
   "execution_count": null,
   "id": "19f5504f-f462-4d96-9973-7425e7fb7fc1",
   "metadata": {},
   "outputs": [],
   "source": []
  }
 ],
 "metadata": {
  "kernelspec": {
   "display_name": "Python 3 (ipykernel)",
   "language": "python",
   "name": "python3"
  },
  "language_info": {
   "codemirror_mode": {
    "name": "ipython",
    "version": 3
   },
   "file_extension": ".py",
   "mimetype": "text/x-python",
   "name": "python",
   "nbconvert_exporter": "python",
   "pygments_lexer": "ipython3",
   "version": "3.10.14"
  }
 },
 "nbformat": 4,
 "nbformat_minor": 5
}
