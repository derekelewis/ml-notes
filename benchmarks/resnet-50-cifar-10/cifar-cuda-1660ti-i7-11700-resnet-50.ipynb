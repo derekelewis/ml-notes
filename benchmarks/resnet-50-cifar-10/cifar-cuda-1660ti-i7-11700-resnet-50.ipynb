{
 "cells": [
  {
   "cell_type": "markdown",
   "id": "8567cc9f-f72a-430f-a8a5-1243a26bc9a3",
   "metadata": {
    "tags": []
   },
   "source": [
    "# PyTorch ResNet-50 CIFAR-10 Benchmarks"
   ]
  },
  {
   "cell_type": "code",
   "execution_count": 1,
   "id": "2e673039-2dfd-4162-a609-7a6a3edd030e",
   "metadata": {
    "tags": []
   },
   "outputs": [
    {
     "name": "stdout",
     "output_type": "stream",
     "text": [
      "Architecture:            x86_64\n",
      "  CPU op-mode(s):        32-bit, 64-bit\n",
      "  Address sizes:         39 bits physical, 48 bits virtual\n",
      "  Byte Order:            Little Endian\n",
      "CPU(s):                  16\n",
      "  On-line CPU(s) list:   0-15\n",
      "Vendor ID:               GenuineIntel\n",
      "  Model name:            11th Gen Intel(R) Core(TM) i7-11700 @ 2.50GHz\n",
      "    CPU family:          6\n",
      "    Model:               167\n",
      "    Thread(s) per core:  2\n",
      "    Core(s) per socket:  8\n",
      "    Socket(s):           1\n",
      "    Stepping:            1\n",
      "    CPU max MHz:         4900.0000\n",
      "    CPU min MHz:         800.0000\n",
      "    BogoMIPS:            4992.00\n",
      "    Flags:               fpu vme de pse tsc msr pae mce cx8 apic sep mtrr pge mc\n",
      "                         a cmov pat pse36 clflush dts acpi mmx fxsr sse sse2 ss \n",
      "                         ht tm pbe syscall nx pdpe1gb rdtscp lm constant_tsc art\n",
      "                          arch_perfmon pebs bts rep_good nopl xtopology nonstop_\n",
      "                         tsc cpuid aperfmperf tsc_known_freq pni pclmulqdq dtes6\n",
      "                         4 monitor ds_cpl vmx smx est tm2 ssse3 sdbg fma cx16 xt\n",
      "                         pr pdcm pcid sse4_1 sse4_2 x2apic movbe popcnt tsc_dead\n",
      "                         line_timer aes xsave avx f16c rdrand lahf_lm abm 3dnowp\n",
      "                         refetch cpuid_fault epb invpcid_single ssbd ibrs ibpb s\n",
      "                         tibp ibrs_enhanced tpr_shadow vnmi flexpriority ept vpi\n",
      "                         d ept_ad fsgsbase tsc_adjust bmi1 avx2 smep bmi2 erms i\n",
      "                         nvpcid mpx avx512f avx512dq rdseed adx smap avx512ifma \n",
      "                         clflushopt intel_pt avx512cd sha_ni avx512bw avx512vl x\n",
      "                         saveopt xsavec xgetbv1 xsaves dtherm ida arat pln pts h\n",
      "                         wp hwp_notify hwp_act_window hwp_epp hwp_pkg_req avx512\n",
      "                         vbmi umip pku ospke avx512_vbmi2 gfni vaes vpclmulqdq a\n",
      "                         vx512_vnni avx512_bitalg avx512_vpopcntdq rdpid fsrm md\n",
      "                         _clear flush_l1d arch_capabilities\n",
      "Virtualization features: \n",
      "  Virtualization:        VT-x\n",
      "Caches (sum of all):     \n",
      "  L1d:                   384 KiB (8 instances)\n",
      "  L1i:                   256 KiB (8 instances)\n",
      "  L2:                    4 MiB (8 instances)\n",
      "  L3:                    16 MiB (1 instance)\n",
      "NUMA:                    \n",
      "  NUMA node(s):          1\n",
      "  NUMA node0 CPU(s):     0-15\n",
      "Vulnerabilities:         \n",
      "  Itlb multihit:         Not affected\n",
      "  L1tf:                  Not affected\n",
      "  Mds:                   Not affected\n",
      "  Meltdown:              Not affected\n",
      "  Mmio stale data:       Mitigation; Clear CPU buffers; SMT vulnerable\n",
      "  Retbleed:              Mitigation; Enhanced IBRS\n",
      "  Spec store bypass:     Mitigation; Speculative Store Bypass disabled via prctl\n",
      "  Spectre v1:            Mitigation; usercopy/swapgs barriers and __user pointer\n",
      "                          sanitization\n",
      "  Spectre v2:            Mitigation; Enhanced IBRS, IBPB conditional, RSB fillin\n",
      "                         g, PBRSB-eIBRS SW sequence\n",
      "  Srbds:                 Not affected\n",
      "  Tsx async abort:       Not affected\n"
     ]
    }
   ],
   "source": [
    "!lscpu"
   ]
  },
  {
   "cell_type": "code",
   "execution_count": 2,
   "id": "e20908aa-d58f-49ca-bbf6-2d7c2e2e4eed",
   "metadata": {
    "tags": []
   },
   "outputs": [
    {
     "name": "stdout",
     "output_type": "stream",
     "text": [
      "Tue Jun 27 19:39:02 2023       \n",
      "+---------------------------------------------------------------------------------------+\n",
      "| NVIDIA-SMI 535.54.03              Driver Version: 535.54.03    CUDA Version: 12.2     |\n",
      "|-----------------------------------------+----------------------+----------------------+\n",
      "| GPU  Name                 Persistence-M | Bus-Id        Disp.A | Volatile Uncorr. ECC |\n",
      "| Fan  Temp   Perf          Pwr:Usage/Cap |         Memory-Usage | GPU-Util  Compute M. |\n",
      "|                                         |                      |               MIG M. |\n",
      "|=========================================+======================+======================|\n",
      "|   0  NVIDIA GeForce GTX 1660 Ti     Off | 00000000:01:00.0 Off |                  N/A |\n",
      "| 79%   53C    P8              11W / 130W |     63MiB /  6144MiB |      0%      Default |\n",
      "|                                         |                      |                  N/A |\n",
      "+-----------------------------------------+----------------------+----------------------+\n",
      "                                                                                         \n",
      "+---------------------------------------------------------------------------------------+\n",
      "| Processes:                                                                            |\n",
      "|  GPU   GI   CI        PID   Type   Process name                            GPU Memory |\n",
      "|        ID   ID                                                             Usage      |\n",
      "|=======================================================================================|\n",
      "|    0   N/A  N/A      2593      G   /usr/libexec/Xorg                            56MiB |\n",
      "|    0   N/A  N/A      2974      G   /usr/bin/gnome-shell                          5MiB |\n",
      "+---------------------------------------------------------------------------------------+\n"
     ]
    }
   ],
   "source": [
    "!nvidia-smi"
   ]
  },
  {
   "cell_type": "markdown",
   "id": "e8a48050-7a56-4df8-ba49-e3cbe7b88183",
   "metadata": {},
   "source": [
    "## device=cuda:0"
   ]
  },
  {
   "cell_type": "code",
   "execution_count": 3,
   "id": "14a6dd8f-769a-4ce5-a8d5-a32b2f779dfd",
   "metadata": {
    "tags": []
   },
   "outputs": [],
   "source": [
    "import torch\n",
    "import torchvision"
   ]
  },
  {
   "cell_type": "code",
   "execution_count": 4,
   "id": "69674797-f9e3-465b-a546-9e270f5facb9",
   "metadata": {
    "tags": []
   },
   "outputs": [],
   "source": [
    "LR = 0.01\n",
    "DOWNLOAD = True\n",
    "DATA = 'datasets/cifar10/'\n",
    "device = 'cuda:0'"
   ]
  },
  {
   "cell_type": "code",
   "execution_count": 5,
   "id": "7c75aa35-555a-4a0e-a606-15199c696b50",
   "metadata": {
    "tags": []
   },
   "outputs": [
    {
     "name": "stdout",
     "output_type": "stream",
     "text": [
      "Files already downloaded and verified\n",
      "Files already downloaded and verified\n"
     ]
    }
   ],
   "source": [
    "transform = torchvision.transforms.Compose([\n",
    "    torchvision.transforms.Resize((224, 224)),\n",
    "    torchvision.transforms.ToTensor(),\n",
    "    torchvision.transforms.Normalize((0.5, 0.5, 0.5), (0.5, 0.5, 0.5))\n",
    "])\n",
    "\n",
    "train_dataset = torchvision.datasets.CIFAR10(\n",
    "        root=DATA,\n",
    "        train=True,\n",
    "        transform=transform,\n",
    "        download=DOWNLOAD\n",
    ")\n",
    "\n",
    "train_loader = torch.utils.data.DataLoader(\n",
    "        dataset=train_dataset,\n",
    "        batch_size=64,\n",
    "        \n",
    ")\n",
    "\n",
    "test_dataset = torchvision.datasets.CIFAR10(\n",
    "        root=DATA,\n",
    "        train=False,\n",
    "        transform=transform,\n",
    "        download=DOWNLOAD\n",
    ")\n",
    "\n",
    "test_loader = torch.utils.data.DataLoader(\n",
    "        dataset=test_dataset,\n",
    "        batch_size=128,\n",
    ")"
   ]
  },
  {
   "cell_type": "code",
   "execution_count": 6,
   "id": "a5803b1c-a204-4986-acf7-38f713794b63",
   "metadata": {
    "tags": []
   },
   "outputs": [],
   "source": [
    "model = torchvision.models.resnet50()\n",
    "model.to(device)\n",
    "criterion = torch.nn.CrossEntropyLoss()\n",
    "optimizer = torch.optim.SGD(model.parameters(), lr = LR, momentum=0.9)"
   ]
  },
  {
   "cell_type": "code",
   "execution_count": 7,
   "id": "02853e56-70f7-430e-ae9c-bc66b6ca5ee8",
   "metadata": {
    "tags": []
   },
   "outputs": [
    {
     "name": "stderr",
     "output_type": "stream",
     "text": [
      "/home/dlewis/miniconda3/envs/mlenv/lib/python3.11/site-packages/torch/nn/modules/conv.py:459: UserWarning: Applied workaround for CuDNN issue, install nvrtc.so (Triggered internally at /opt/conda/conda-bld/pytorch_1682343995622/work/aten/src/ATen/native/cudnn/Conv_v8.cpp:80.)\n",
      "  return F.conv2d(input, weight, bias, self.stride,\n"
     ]
    },
    {
     "name": "stdout",
     "output_type": "stream",
     "text": [
      "epoch = 0, loss = 1.9514214992523193, accuracy = 43.71\n",
      "epoch = 1, loss = 1.5855259895324707, accuracy = 60.84\n",
      "epoch = 2, loss = 1.2572696208953857, accuracy = 64.44\n",
      "epoch = 3, loss = 0.6162101030349731, accuracy = 71.70\n",
      "epoch = 4, loss = 0.228501558303833, accuracy = 70.23\n",
      "epoch = 5, loss = 0.16014787554740906, accuracy = 73.34\n",
      "epoch = 6, loss = 0.6181645393371582, accuracy = 70.63\n",
      "epoch = 7, loss = 0.21589496731758118, accuracy = 70.15\n",
      "epoch = 8, loss = 0.11138337850570679, accuracy = 71.34\n",
      "epoch = 9, loss = 0.08046340197324753, accuracy = 69.57\n",
      "epoch = 10, loss = 0.024554256349802017, accuracy = 75.03\n",
      "epoch = 11, loss = 0.00855736993253231, accuracy = 77.10\n",
      "epoch = 12, loss = 0.0026750373654067516, accuracy = 75.21\n",
      "epoch = 13, loss = 0.18017934262752533, accuracy = 76.20\n",
      "epoch = 14, loss = 0.0018380656838417053, accuracy = 79.50\n",
      "epoch = 15, loss = 0.01201550755649805, accuracy = 79.25\n",
      "epoch = 16, loss = 0.00011307873501209542, accuracy = 79.76\n",
      "epoch = 17, loss = 0.0017156492685899138, accuracy = 79.96\n",
      "epoch = 18, loss = 0.012850324623286724, accuracy = 79.48\n",
      "epoch = 19, loss = 0.00531959580257535, accuracy = 78.90\n",
      "epoch = 20, loss = 0.0008419647929258645, accuracy = 79.36\n",
      "epoch = 21, loss = 0.0002565082395449281, accuracy = 79.91\n",
      "epoch = 22, loss = 0.0005346242105588317, accuracy = 81.08\n",
      "epoch = 23, loss = 0.0006745026330463588, accuracy = 80.54\n",
      "epoch = 24, loss = 0.0010791125241667032, accuracy = 80.28\n",
      "epoch = 25, loss = 0.00021496582485269755, accuracy = 80.10\n",
      "epoch = 26, loss = 0.0006466920021921396, accuracy = 80.12\n",
      "epoch = 27, loss = 0.06640127301216125, accuracy = 80.02\n",
      "epoch = 28, loss = 0.12128593027591705, accuracy = 79.04\n",
      "epoch = 29, loss = 0.033946700394153595, accuracy = 80.13\n",
      "epoch = 30, loss = 0.0020521548576653004, accuracy = 81.13\n",
      "epoch = 31, loss = 0.00015951324894558638, accuracy = 81.61\n",
      "epoch = 32, loss = 0.00014697786536999047, accuracy = 81.79\n",
      "epoch = 33, loss = 8.0283367424272e-05, accuracy = 81.82\n",
      "epoch = 34, loss = 6.544192001456395e-05, accuracy = 81.93\n",
      "epoch = 35, loss = 5.553743540076539e-05, accuracy = 81.92\n",
      "epoch = 36, loss = 4.8172099923249334e-05, accuracy = 81.93\n",
      "epoch = 37, loss = 4.234813241055235e-05, accuracy = 81.94\n",
      "epoch = 38, loss = 3.7745376175735146e-05, accuracy = 81.96\n",
      "epoch = 39, loss = 3.40287915605586e-05, accuracy = 81.98\n",
      "epoch = 40, loss = 3.0952647648518905e-05, accuracy = 81.98\n",
      "epoch = 41, loss = 2.837547981471289e-05, accuracy = 82.00\n",
      "epoch = 42, loss = 2.6140887712244876e-05, accuracy = 81.99\n",
      "epoch = 43, loss = 2.4204202418331988e-05, accuracy = 82.00\n",
      "epoch = 44, loss = 2.2505853848997504e-05, accuracy = 82.00\n",
      "epoch = 45, loss = 2.100860365317203e-05, accuracy = 81.99\n",
      "epoch = 46, loss = 1.9712459106813185e-05, accuracy = 82.00\n",
      "epoch = 47, loss = 1.8565278878668323e-05, accuracy = 81.99\n",
      "epoch = 48, loss = 1.7544725778861903e-05, accuracy = 81.99\n",
      "epoch = 49, loss = 1.661355418036692e-05, accuracy = 81.98\n",
      "epoch = 50, loss = 1.57792183017591e-05, accuracy = 81.98\n",
      "epoch = 51, loss = 1.5011919458629563e-05, accuracy = 81.96\n",
      "epoch = 52, loss = 1.4319110960059334e-05, accuracy = 81.98\n",
      "epoch = 53, loss = 1.3693344953935593e-05, accuracy = 81.99\n",
      "epoch = 54, loss = 1.3097371265757829e-05, accuracy = 81.96\n",
      "epoch = 55, loss = 1.2568443708005361e-05, accuracy = 81.97\n",
      "epoch = 56, loss = 1.2076760867785197e-05, accuracy = 81.98\n",
      "epoch = 57, loss = 1.161487671197392e-05, accuracy = 82.01\n",
      "epoch = 58, loss = 1.1175337021995801e-05, accuracy = 82.01\n",
      "epoch = 59, loss = 1.0780496268125717e-05, accuracy = 82.01\n",
      "epoch = 60, loss = 1.0400553037470672e-05, accuracy = 82.00\n",
      "epoch = 61, loss = 1.0065308742923662e-05, accuracy = 82.01\n",
      "epoch = 62, loss = 9.744962881086394e-06, accuracy = 82.00\n",
      "epoch = 63, loss = 9.439514542464167e-06, accuracy = 82.00\n",
      "epoch = 64, loss = 9.141515874944162e-06, accuracy = 82.01\n",
      "epoch = 65, loss = 8.88076738192467e-06, accuracy = 82.03\n",
      "epoch = 66, loss = 8.620017069915775e-06, accuracy = 82.03\n",
      "epoch = 67, loss = 8.396516932407394e-06, accuracy = 82.02\n",
      "epoch = 68, loss = 8.165565304807387e-06, accuracy = 82.02\n",
      "epoch = 69, loss = 7.942063348309603e-06, accuracy = 82.03\n",
      "epoch = 70, loss = 7.740911314613186e-06, accuracy = 82.02\n",
      "epoch = 71, loss = 7.562110113212839e-06, accuracy = 82.01\n",
      "epoch = 72, loss = 7.368407295871293e-06, accuracy = 82.02\n",
      "epoch = 73, loss = 7.1896047302288935e-06, accuracy = 82.02\n"
     ]
    },
    {
     "ename": "KeyboardInterrupt",
     "evalue": "",
     "output_type": "error",
     "traceback": [
      "\u001b[0;31m---------------------------------------------------------------------------\u001b[0m",
      "\u001b[0;31mKeyboardInterrupt\u001b[0m                         Traceback (most recent call last)",
      "File \u001b[0;32m<timed exec>:16\u001b[0m\n",
      "\u001b[0;31mKeyboardInterrupt\u001b[0m: "
     ]
    }
   ],
   "source": [
    "%%time\n",
    "\n",
    "accuracy = 0\n",
    "loss_iter_plot = []\n",
    "loss_epoch_plot = []\n",
    "accuracy_plot = []\n",
    "\n",
    "model.train()\n",
    "\n",
    "for epoch in range(300):\n",
    "    for batch_idx, (data, target) in enumerate(train_loader):\n",
    "        data, target = data.to(device), target.to(device)\n",
    "        optimizer.zero_grad()\n",
    "        output = model(data)\n",
    "        loss = criterion(output, target)\n",
    "        loss.backward()\n",
    "        optimizer.step()\n",
    "        loss_iter_plot.append(loss.item())\n",
    "    \n",
    "    loss_epoch_plot.append(loss.item())\n",
    "    \n",
    "    model.eval()\n",
    "    \n",
    "    correct = 0\n",
    "    total = 0\n",
    "\n",
    "    with torch.no_grad():\n",
    "        for data, target in test_loader:\n",
    "            data, target = data.to(device), target.to(device)\n",
    "            output = model(data)\n",
    "            _, predicted = torch.max(output.data, 1)\n",
    "            total += target.size(0)\n",
    "            correct += (predicted == target).sum().item()\n",
    "    accuracy = (correct / total) * 100\n",
    "    accuracy_plot.append(accuracy)\n",
    "    print(f\"epoch = {epoch}, loss = {loss.item()}, accuracy = {accuracy:.2f}\")\n",
    "    \n",
    "    model.train()\n"
   ]
  },
  {
   "cell_type": "code",
   "execution_count": 8,
   "id": "21e9cad0-1bc9-413e-95a3-02249b1d1015",
   "metadata": {
    "tags": []
   },
   "outputs": [
    {
     "data": {
      "image/png": "[encoded data removed]",
      "text/plain": [
       "<Figure size 640x480 with 1 Axes>"
      ]
     },
     "metadata": {},
     "output_type": "display_data"
    }
   ],
   "source": [
    "import matplotlib.pyplot as plt\n",
    "\n",
    "X = range(len(loss_epoch_plot))\n",
    "Y_loss = loss_epoch_plot\n",
    "plt.plot(X, Y_loss)\n",
    "plt.title(\"Loss\")\n",
    "plt.show()"
   ]
  },
  {
   "cell_type": "code",
   "execution_count": 9,
   "id": "2f89c3b8-7746-47cc-bdf3-41803892fbaa",
   "metadata": {
    "tags": []
   },
   "outputs": [
    {
     "data": {
      "image/png": "[encoded data removed]",
      "text/plain": [
       "<Figure size 640x480 with 1 Axes>"
      ]
     },
     "metadata": {},
     "output_type": "display_data"
    }
   ],
   "source": [
    "X_accuracy = range(len(accuracy_plot))\n",
    "Y_accuracy = accuracy_plot\n",
    "plt.plot(X_accuracy, Y_accuracy)\n",
    "plt.title(\"Accuracy\")\n",
    "plt.show()"
   ]
  },
  {
   "cell_type": "code",
   "execution_count": 10,
   "id": "66e34b40-8b06-4497-a32e-d2b4bb1caea1",
   "metadata": {
    "tags": []
   },
   "outputs": [],
   "source": [
    "torch.save({\n",
    "     'model_state_dict': model.state_dict(),\n",
    "     'optimizer_state_dict': optimizer.state_dict(),\n",
    "     }, 'checkpoint.pth')"
   ]
  },
  {
   "cell_type": "code",
   "execution_count": null,
   "id": "927def76-8532-4812-8bc7-2a1dc47b5e0e",
   "metadata": {},
   "outputs": [],
   "source": []
  }
 ],
 "metadata": {
  "kernelspec": {
   "display_name": "Python 3 (ipykernel)",
   "language": "python",
   "name": "python3"
  },
  "language_info": {
   "codemirror_mode": {
    "name": "ipython",
    "version": 3
   },
   "file_extension": ".py",
   "mimetype": "text/x-python",
   "name": "python",
   "nbconvert_exporter": "python",
   "pygments_lexer": "ipython3",
   "version": "3.11.3"
  }
 },
 "nbformat": 4,
 "nbformat_minor": 5
}
